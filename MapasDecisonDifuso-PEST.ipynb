{
  "nbformat": 4,
  "nbformat_minor": 0,
  "metadata": {
    "colab": {
      "name": "MapasDecisonDifuso.ipynb",
      "provenance": [],
      "authorship_tag": "ABX9TyMTce8pOTFEIYppRnYBwXL6",
      "include_colab_link": true
    },
    "kernelspec": {
      "name": "python3",
      "display_name": "Python 3"
    }
  },
  "cells": [
    {
      "cell_type": "markdown",
      "metadata": {
        "id": "view-in-github",
        "colab_type": "text"
      },
      "source": [
        "<a href=\"https://colab.research.google.com/github/mleyvaz/Neural-networks/blob/main/MapasDecisonDifuso-PEST.ipynb\" target=\"_parent\"><img src=\"https://colab.research.google.com/assets/colab-badge.svg\" alt=\"Open In Colab\"/></a>"
      ]
    },
    {
      "cell_type": "code",
      "metadata": {
        "id": "gUXOeReOlxWA"
      },
      "source": [
        "import numpy as np"
      ],
      "execution_count": null,
      "outputs": []
    },
    {
      "cell_type": "markdown",
      "metadata": {
        "id": "zJH43jLfl9l1"
      },
      "source": [
        "Comparacion de la importancia de los  criterios, obtenr matriz de comparación"
      ]
    },
    {
      "cell_type": "code",
      "metadata": {
        "id": "_lEHXYXCl8s3"
      },
      "source": [
        "a=np.matrix([[1.00,0.25,0.20,0.20,0.33,3.00,1.00,0.20,0.25,0.25,0.50],\r\n",
        "             [4.00,1.00,1.00,1.00,2.00,1.00,0.33,0.33,1.00,1.00,1.00],\r\n",
        "             [5.00,1.00,1.00,1.00,4.00,2.00,2.00,0.50,0.50,0.33,0.50],\r\n",
        "             [5.00,1.00,1.00,1.00,2.00,3.00,1.00,0.33,0.25,0.25,0.33],\r\n",
        "             [3.00,0.50,0.25,0.50,1.00,3.00,2.00,2.00,0.33,0.50,0.33],\r\n",
        "             [0.33,1.00,0.33,0.33,0.33,1.00,0.50,0.50,0.25,0.20,0.33], \r\n",
        "             [1.00,3.00,0.50,1.00,0.50,2.00,1.00,0.50,0.33,0.25,0.50],\r\n",
        "             [5.00,5.00,2.00,3.00,0.50,2.00,2.00,1.00,0.50,0.33,0.50],\r\n",
        "             [4.00,4.00,2.00,4.00,3.00,4.00,3.00,2.00,1.00,0.50,0.50],\r\n",
        "             [4.00,4.00,3.00,4.00,2.00,5.00,4.00,3.00,2.00,1.00,0.33],\r\n",
        "             [2.00,2.00,2.00,3.00,3.00,3.00,2.00,2.00,2.00,3.00,1.00]])"
      ],
      "execution_count": null,
      "outputs": []
    },
    {
      "cell_type": "markdown",
      "metadata": {
        "id": "BxDufCsVmSUy"
      },
      "source": [
        "Paar derivar los pesos locales se utiliza el método del valor propio"
      ]
    },
    {
      "cell_type": "code",
      "metadata": {
        "id": "ttQQKoaEmchV"
      },
      "source": [
        "#print (a.sum(axis=0)) #Suma por columnas\r\n",
        "b=a/a.sum(axis=0) # Se normalizan la matriz\r\n",
        "\r\n",
        "\r\n",
        "eigen=0.25*(b.sum(axis=1))# se encuentra el promedio\r\n",
        "print(eigen)"
      ],
      "execution_count": null,
      "outputs": []
    },
    {
      "cell_type": "markdown",
      "metadata": {
        "id": "lbd2GhrGmoMb"
      },
      "source": [
        "Se obtine el mapa  cognitivo difuso para ilustrar la relacion entre los criterios"
      ]
    },
    {
      "cell_type": "code",
      "metadata": {
        "id": "zthrwZnsmt1n"
      },
      "source": [
        "E=np.matrix([[0,0,0,0,0.64,0,0,0,0,0,0],[0,0,0,0,0,0,0.25,0,0,0,0],\r\n",
        "             [0,0,0,0,0,0.22,0.5,0,0,0,0],\r\n",
        "             [0,0,0,0,0.72,0,0,0,0,0,0],\r\n",
        "             [0,0,0,0,0,0,0,0,0,0,0],\r\n",
        "             [0,0,0,0,0,0,0,0,0,0,0], \r\n",
        "             [0,0,0,0,0,0,0,0,0,0,0],\r\n",
        "             [0,0.25,0,0,0,0,0.67,0,0,0,0],\r\n",
        "             [0,0,0,0,0,0,0,0,0,0,0.56],\r\n",
        "             [0,0,0,0.19,0,0,0,0,0,0,0.67],\r\n",
        "             [0,0,0,0,0.28,0,0,0,0,0,0]])"
      ],
      "execution_count": null,
      "outputs": []
    },
    {
      "cell_type": "markdown",
      "metadata": {
        "id": "osVKrBZ_m9zN"
      },
      "source": [
        "Se obtine la matriz del estado estable . En este caso se emplea una fución lineal"
      ]
    },
    {
      "cell_type": "code",
      "metadata": {
        "id": "F7brzPfGnHsq"
      },
      "source": [
        "def steady(M):    \r\n",
        "    C=M\r\n",
        "    I=np.identity(len(M))\r\n",
        "    M.dot(I)\r\n",
        "    flag=True\r\n",
        "    print(flag)\r\n",
        "    c=0\r\n",
        "    C=M\r\n",
        "    T=M\r\n",
        "    while flag:               \r\n",
        "        c=c+1\r\n",
        "        #print(flag)\r\n",
        "        C=M.dot(C+I)       \r\n",
        "        #print(T)\r\n",
        "        #print(C)        \r\n",
        "        flag=not((C==T).all())\r\n",
        "        #print(flag)\r\n",
        "        if c==50:\r\n",
        "            flag=False\r\n",
        "        T=C\r\n",
        "    #print(c)\r\n",
        "    return C\r\n",
        "Ef=steady(E)   \r\n",
        "print(Ef)"
      ],
      "execution_count": null,
      "outputs": []
    },
    {
      "cell_type": "code",
      "metadata": {
        "id": "bLAD2KQZm9Lt"
      },
      "source": [
        ""
      ],
      "execution_count": null,
      "outputs": []
    },
    {
      "cell_type": "markdown",
      "metadata": {
        "id": "LG8NlvuZnPWE"
      },
      "source": [
        "Se deriva el peso global"
      ]
    },
    {
      "cell_type": "code",
      "metadata": {
        "id": "_GD2uXDpnRu-"
      },
      "source": [
        "eigenn=(eigen/np.amax(eigen))\r\n",
        "#print(eigenn)\r\n",
        "# Normalizar la matriz\r\n",
        "\r\n",
        "Efn=Ef/np.amax(Ef.sum(axis=1)) #row sum\r\n",
        "\r\n",
        "w=eigenn+Efn.dot(eigenn)\r\n",
        "\r\n",
        "#print(w)\r\n",
        "#Finally, normalize the global weight (W).\r\n",
        "print(w/w.sum(axis=0))"
      ],
      "execution_count": null,
      "outputs": []
    },
    {
      "cell_type": "markdown",
      "metadata": {
        "id": "PCIMctzZnYuF"
      },
      "source": [
        "Ver: [A framework for PEST analysis based on fuzzy decision maps](https://www.researchgate.net/publication/324680636_A_framework_for_PEST_analysis_based_on_fuzzy_decision_maps)"
      ]
    },
    {
      "cell_type": "code",
      "metadata": {
        "id": "u9asoUB4pTJL"
      },
      "source": [
        ""
      ],
      "execution_count": null,
      "outputs": []
    }
  ]
}