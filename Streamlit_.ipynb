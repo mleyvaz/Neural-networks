{
  "nbformat": 4,
  "nbformat_minor": 0,
  "metadata": {
    "colab": {
      "name": "Streamlit .ipynb",
      "provenance": [],
      "include_colab_link": true
    },
    "kernelspec": {
      "name": "python3",
      "display_name": "Python 3"
    }
  },
  "cells": [
    {
      "cell_type": "markdown",
      "metadata": {
        "id": "view-in-github",
        "colab_type": "text"
      },
      "source": [
        "<a href=\"https://colab.research.google.com/github/mleyvaz/Neural-networks/blob/main/Streamlit_.ipynb\" target=\"_parent\"><img src=\"https://colab.research.google.com/assets/colab-badge.svg\" alt=\"Open In Colab\"/></a>"
      ]
    },
    {
      "cell_type": "code",
      "metadata": {
        "id": "qB69QuHjofv_"
      },
      "source": [
        "!pip install streamlit"
      ],
      "execution_count": null,
      "outputs": []
    },
    {
      "cell_type": "code",
      "metadata": {
        "id": "PoOgAkPEohq3"
      },
      "source": [
        "!pip install pyngrok"
      ],
      "execution_count": null,
      "outputs": []
    },
    {
      "cell_type": "code",
      "metadata": {
        "id": "-toYRmVBvOE6"
      },
      "source": [
        "!pip install opencv-python==3.4.2.16\r\n",
        "!pip install opencv-contrib-python==3.4.2.16"
      ],
      "execution_count": null,
      "outputs": []
    },
    {
      "cell_type": "code",
      "metadata": {
        "id": "_avh1YJwjApR"
      },
      "source": [
        "import streamlit as st\r\n",
        "from PIL import Image\r\n",
        "import cv2 \r\n",
        "import numpy as np"
      ],
      "execution_count": null,
      "outputs": []
    },
    {
      "cell_type": "code",
      "metadata": {
        "id": "hyh8tSBfpxk2"
      },
      "source": [
        "%%writefile app.py\n",
        " \n",
        "import streamlit as st\n",
        "from PIL import Image\n",
        "import cv2 \n",
        "import numpy as np\n",
        "from skimage import io\n",
        " \n",
        "def main():\n",
        "  selected_box = st.sidebar.selectbox(\n",
        "    'Choose one of the following',\n",
        "    ('Welcome','Image Processing', 'Video', 'Face Detection', 'Feature Detection', 'Object Detection')\n",
        "    ) \n",
        "  if selected_box == 'Welcome':\n",
        "    welcome()\n",
        "  if selected_box == 'Feature Detection':\n",
        "    feature_detection()\n",
        "def welcome():\n",
        "    st.title('Procesamiento de imágenes mediante Streamlit')\n",
        "    st.subheader('Una aplicación sencilla que muestra diferentes algoritmos de procesamiento de imágenes. Puede elegir las opciones'\n",
        "             + ' desde la izquierda. He implementado sólo unos pocos para mostrar cómo funciona en Streamlit. ' + \n",
        "             'Usted es libre de añadir elementos a esta aplicación.')\n",
        "    \n",
        "    st.image('https://upload.wikimedia.org/wikipedia/commons/thumb/e/ee/Jewelry_box.jpg/1024px-Jewelry_box.jpg',use_column_width=True)\n",
        "def feature_detection():\n",
        "    st.subheader('Feature Detection in images')\n",
        "    st.write(\"SIFT\")\n",
        "    image = io.imread(\"https://i0.wp.com/mifpq.com/wp-content/uploads/2020/08/lenovo-ideapad-l340-15-amd-gallery-03.jpg?fit=1060%2C596&ssl=1\")\n",
        "    gray = cv2.cvtColor(image, cv2.COLOR_BGR2GRAY)\n",
        "    sift = cv2.xfeatures2d.SIFT_create()    \n",
        "    keypoints = sift.detect(gray, None)\n",
        "     \n",
        "    st.write(\"Number of keypoints Detected: \",len(keypoints))\n",
        "    image = cv2.drawKeypoints(image, keypoints, None, flags=cv2.DRAW_MATCHES_FLAGS_DRAW_RICH_KEYPOINTS)\n",
        "    st.image(image, use_column_width=True,clamp = True)   \n",
        "    \n",
        "    st.write(\"FAST\")\n",
        "    image_fast = io.imread(\"https://upload.wikimedia.org/wikipedia/commons/thumb/e/ee/Jewelry_box.jpg/1024px-Jewelry_box.jpg\")\n",
        "    gray = cv2.cvtColor(image_fast, cv2.COLOR_BGR2GRAY)\n",
        "    fast = cv2.FastFeatureDetector_create()\n",
        "    keypoints = fast.detect(gray, None)\n",
        "    st.write(\"Number of keypoints Detected: \",len(keypoints))\n",
        "    image_  = cv2.drawKeypoints(image_fast, keypoints, None, flags=cv2.DRAW_MATCHES_FLAGS_DRAW_RICH_KEYPOINTS)\n",
        "    st.image(image_, use_column_width=True,clamp = True)\n",
        "    #cv2.imshow('image', image) \n",
        "    #cv2_imshow(image)\n",
        " \n",
        "if __name__ == \"__main__\":\n",
        "    main()"
      ],
      "execution_count": null,
      "outputs": []
    },
    {
      "cell_type": "code",
      "metadata": {
        "id": "Yvuw8RuMsCWM"
      },
      "source": [
        "!ls"
      ],
      "execution_count": null,
      "outputs": []
    },
    {
      "cell_type": "code",
      "metadata": {
        "id": "FlKm65XmsVMZ"
      },
      "source": [
        "!ngrok authtoken 1nTgfSH5VxxxxxxxxxTCenPV79Xj #poner su token"
      ],
      "execution_count": null,
      "outputs": []
    },
    {
      "cell_type": "code",
      "metadata": {
        "id": "FCkIQW_YqYYL"
      },
      "source": [
        "from pyngrok import ngrok\r\n"
      ],
      "execution_count": null,
      "outputs": []
    },
    {
      "cell_type": "code",
      "metadata": {
        "id": "tjXIdXwwtWUX"
      },
      "source": [
        "!streamlit run app.py &>/dev/null&"
      ],
      "execution_count": null,
      "outputs": []
    },
    {
      "cell_type": "code",
      "metadata": {
        "id": "30UJp4CQtrgs"
      },
      "source": [
        "!pgrep streamlit "
      ],
      "execution_count": null,
      "outputs": []
    },
    {
      "cell_type": "code",
      "metadata": {
        "id": "cv_LdH9Mt6A2"
      },
      "source": [
        "public_url = ngrok.connect('8501')"
      ],
      "execution_count": null,
      "outputs": []
    },
    {
      "cell_type": "code",
      "metadata": {
        "id": "tLxmZ7DouSig"
      },
      "source": [
        "print(public_url)"
      ],
      "execution_count": null,
      "outputs": []
    },
    {
      "cell_type": "code",
      "metadata": {
        "id": "hVUjT-JtOJdY"
      },
      "source": [
        "!pgrep streamlit"
      ],
      "execution_count": null,
      "outputs": []
    },
    {
      "cell_type": "code",
      "metadata": {
        "id": "u16AsdYZOQ23"
      },
      "source": [
        "!kill 445"
      ],
      "execution_count": null,
      "outputs": []
    },
    {
      "cell_type": "code",
      "metadata": {
        "id": "_i5Rch4jOYWk"
      },
      "source": [
        "ngrok.kill()"
      ],
      "execution_count": null,
      "outputs": []
    }
  ]
}