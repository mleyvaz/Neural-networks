{
  "nbformat": 4,
  "nbformat_minor": 0,
  "metadata": {
    "colab": {
      "name": "Kaggle-imagenes SVM KEras",
      "provenance": [],
      "authorship_tag": "ABX9TyPw0uT3oerTYWAgAUiV1H0B",
      "include_colab_link": true
    },
    "kernelspec": {
      "name": "python3",
      "display_name": "Python 3"
    },
    "accelerator": "GPU"
  },
  "cells": [
    {
      "cell_type": "markdown",
      "metadata": {
        "id": "view-in-github",
        "colab_type": "text"
      },
      "source": [
        "<a href=\"https://colab.research.google.com/github/mleyvaz/Neural-networks/blob/main/Kaggle_imagenes_SVM_AUTOMLs.ipynb\" target=\"_parent\"><img src=\"https://colab.research.google.com/assets/colab-badge.svg\" alt=\"Open In Colab\"/></a>"
      ]
    },
    {
      "cell_type": "code",
      "metadata": {
        "id": "2omZRs_8tXfB"
      },
      "source": [
        "!pip install kaggle"
      ],
      "execution_count": null,
      "outputs": []
    },
    {
      "cell_type": "code",
      "metadata": {
        "id": "om1XneMmuKQk"
      },
      "source": [
        "from google.colab import drive\r\n",
        "drive.mount('/content/gdrive')"
      ],
      "execution_count": null,
      "outputs": []
    },
    {
      "cell_type": "code",
      "metadata": {
        "id": "o1jouiPUveht"
      },
      "source": [
        "import os \r\n",
        "os.environ['KAGGLE_CONFIG_DIR']=\"/content/gdrive/MyDrive/cancer\"\r\n"
      ],
      "execution_count": null,
      "outputs": []
    },
    {
      "cell_type": "code",
      "metadata": {
        "id": "SNmyAKSkwd8l"
      },
      "source": [
        "%cd /content/gdrive/MyDrive/cancer"
      ],
      "execution_count": null,
      "outputs": []
    },
    {
      "cell_type": "code",
      "metadata": {
        "id": "CCB_l5zNxbJQ"
      },
      "source": [
        "!kaggle datasets download -d simjeg/lymphoma-subtype-classification-fl-vs-cll"
      ],
      "execution_count": null,
      "outputs": []
    },
    {
      "cell_type": "code",
      "metadata": {
        "id": "UvL0X1_yvaOT"
      },
      "source": [
        "!ls"
      ],
      "execution_count": null,
      "outputs": []
    },
    {
      "cell_type": "code",
      "metadata": {
        "id": "GYyYEcuyvyOz"
      },
      "source": [
        "!apt install unzip"
      ],
      "execution_count": null,
      "outputs": []
    },
    {
      "cell_type": "code",
      "metadata": {
        "id": "2xjR_s3GwHI_"
      },
      "source": [
        "!unzip lymphoma-subtype-classification-fl-vs-cll.zip"
      ],
      "execution_count": null,
      "outputs": []
    },
    {
      "cell_type": "code",
      "metadata": {
        "id": "NzDMQRSKwaPg"
      },
      "source": [
        "import numpy as np\r\n",
        "X = np.load('X.npy') # images\r\n",
        "Y = np.load('Y.npy') # labels associated to images (0 = no IDC, 1 = IDC)"
      ],
      "execution_count": null,
      "outputs": []
    },
    {
      "cell_type": "code",
      "metadata": {
        "id": "ZRJP1wVJwuw0"
      },
      "source": [
        "def describeData(a,b):\r\n",
        "    print('Total number of images: {}'.format(len(a)))\r\n",
        "    print('Number of IDC(-) Images: {}'.format(np.sum(b==0)))\r\n",
        "    print('Number of IDC(+) Images: {}'.format(np.sum(b==1)))\r\n",
        "    print('Percentage of positive images: {:.2f}%'.format(100*np.mean(b)))\r\n",
        "    print('Image shape (Width, Height, Channels): {}'.format(a[0].shape))\r\n",
        "describeData(X,Y)"
      ],
      "execution_count": null,
      "outputs": []
    },
    {
      "cell_type": "code",
      "metadata": {
        "id": "Cav5rtgoyHaj"
      },
      "source": [
        "import cv2  \r\n",
        "from google.colab.patches import cv2_imshow # for image display\r\n",
        "from PIL import Image \r\n",
        "import matplotlib.pylab as plt\r\n",
        "imgs0 = X[Y==0] # (0 = no IDC, 1 = IDC)\r\n",
        "imgs1 = X[Y==1] \r\n",
        "cv2_imshow(imgs0[100])   "
      ],
      "execution_count": null,
      "outputs": []
    },
    {
      "cell_type": "code",
      "metadata": {
        "id": "IpwsuwzaySak"
      },
      "source": [
        "cv2_imshow(imgs1[100])"
      ],
      "execution_count": null,
      "outputs": []
    },
    {
      "cell_type": "code",
      "metadata": {
        "id": "yw1SZikVycWl"
      },
      "source": [
        "import sklearn.model_selection as model_selection\r\n",
        "X_train, X_test, Y_train, Y_test =  model_selection.train_test_split(X, Y, test_size=0.2)"
      ],
      "execution_count": null,
      "outputs": []
    },
    {
      "cell_type": "code",
      "metadata": {
        "id": "B1nI6cnrytsr"
      },
      "source": [
        "X_trainShape = X_train.shape[1]*X_train.shape[2]*X_train.shape[3]\r\n",
        "X_testShape = X_test.shape[1]*X_test.shape[2]*X_test.shape[3]\r\n",
        "\r\n",
        "X_trainFlat = X_train.reshape(X_train.shape[0], X_trainShape)\r\n",
        "X_testFlat = X_test.reshape(X_test.shape[0], X_testShape)\r\n",
        "X_testFlat[100]"
      ],
      "execution_count": null,
      "outputs": []
    },
    {
      "cell_type": "code",
      "metadata": {
        "id": "57PSLgnHeWml"
      },
      "source": [
        ""
      ],
      "execution_count": null,
      "outputs": []
    },
    {
      "cell_type": "markdown",
      "metadata": {
        "id": "9I1grlJ7baUk"
      },
      "source": [
        "Máquina de soporte vectorial\r\n",
        "https://scikit-learn.org/stable/modules/generated/sklearn.svm.SVC.html"
      ]
    },
    {
      "cell_type": "code",
      "metadata": {
        "id": "6wBwbd98y48M"
      },
      "source": [
        "from sklearn.svm import SVC\r\n",
        "\r\n",
        "def svm(a,b,c,d):\r\n",
        "    \"\"\"Run LogisticRegression w/ Kfold CV\"\"\"\r\n",
        "    model = SVC()\r\n",
        "    model.fit(a,b)\r\n",
        "    kfold = model_selection.KFold(n_splits=10)\r\n",
        "    accuracy = model_selection.cross_val_score(model, c,d, cv=kfold, scoring='accuracy')\r\n",
        "    mean = accuracy.mean() \r\n",
        "    stdev = accuracy.std()\r\n",
        "    print('SVM - Training set accuracy: %s (%s)' % (mean, stdev))\r\n",
        "    print('')\r\n",
        "svm(X_trainFlat, Y_train, X_testFlat, Y_test)"
      ],
      "execution_count": null,
      "outputs": []
    },
    {
      "cell_type": "markdown",
      "metadata": {
        "id": "3DwkzQXmaxgr"
      },
      "source": [
        "# AutoML programacion genética\r\n",
        "http://epistasislab.github.io/tpot/\r\n"
      ]
    },
    {
      "cell_type": "code",
      "metadata": {
        "id": "wAVnPci6a3n1"
      },
      "source": [
        "pip install tpot"
      ],
      "execution_count": null,
      "outputs": []
    },
    {
      "cell_type": "code",
      "metadata": {
        "id": "QMeQN0A0lYBy"
      },
      "source": [
        "from tpot import TPOTClassifier\r\n",
        "tpot = TPOTClassifier(generations=3, population_size=4,  verbosity=2)\r\n",
        "tpot.fit(X_trainFlat, Y_train)\r\n"
      ],
      "execution_count": null,
      "outputs": []
    },
    {
      "cell_type": "code",
      "metadata": {
        "id": "p8i7N8XTvs5d"
      },
      "source": [
        "print(tpot.score( X_testFlat, Y_test))\r\n",
        "tpot.export('tpot_mnist_pipeline.py')\r\n",
        "tpot.fitted_pipeline_"
      ],
      "execution_count": null,
      "outputs": []
    },
    {
      "cell_type": "markdown",
      "metadata": {
        "id": "M546qUhce5Tf"
      },
      "source": [
        "AutoKeras\r\n",
        "https://autokeras.com/"
      ]
    },
    {
      "cell_type": "code",
      "metadata": {
        "id": "8WjCx_Poz06M"
      },
      "source": [
        "!pip install autokeras"
      ],
      "execution_count": null,
      "outputs": []
    },
    {
      "cell_type": "code",
      "metadata": {
        "id": "I5uLT4_bz2m5"
      },
      "source": [
        "import autokeras as ak\r\n",
        "\r\n",
        "clf = ak.ImageClassifier(max_trials = 10)\r\n",
        "\r\n",
        "clf.fit(X_train, Y_train,epochs=2)\r\n",
        "results = clf.predict(X_test)"
      ],
      "execution_count": null,
      "outputs": []
    },
    {
      "cell_type": "code",
      "metadata": {
        "id": "PEBX1snGz65A"
      },
      "source": [
        "from keras.utils.vis_utils import plot_model\r\n",
        "model=clf.export_model()\r\n",
        "plot_model(model)"
      ],
      "execution_count": null,
      "outputs": []
    }
  ]
}