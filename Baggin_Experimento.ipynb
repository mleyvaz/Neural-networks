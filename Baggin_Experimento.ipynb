{
  "nbformat": 4,
  "nbformat_minor": 0,
  "metadata": {
    "colab": {
      "name": "Baggin Experimento.ipynb",
      "provenance": [],
      "authorship_tag": "ABX9TyOYyx0JK+bYuzBFURjZxc8W",
      "include_colab_link": true
    },
    "kernelspec": {
      "name": "python3",
      "display_name": "Python 3"
    }
  },
  "cells": [
    {
      "cell_type": "markdown",
      "metadata": {
        "id": "view-in-github",
        "colab_type": "text"
      },
      "source": [
        "<a href=\"https://colab.research.google.com/github/mleyvaz/Neural-networks/blob/main/Baggin_Experimento.ipynb\" target=\"_parent\"><img src=\"https://colab.research.google.com/assets/colab-badge.svg\" alt=\"Open In Colab\"/></a>"
      ]
    },
    {
      "cell_type": "code",
      "metadata": {
        "id": "q3ZWFv8qBC8_"
      },
      "source": [
        "from numpy import mean\r\n",
        "from numpy import std\r\n",
        "from sklearn.datasets import load_breast_cancer\r\n",
        "from sklearn.model_selection import cross_val_score\r\n",
        "from sklearn.ensemble import BaggingClassifier\r\n",
        "from sklearn.model_selection import RepeatedStratifiedKFold\r\n",
        "from sklearn.svm import SVC\r\n",
        "from mlxtend.evaluate import paired_ttest_5x2cv\r\n"
      ],
      "execution_count": 7,
      "outputs": []
    },
    {
      "cell_type": "code",
      "metadata": {
        "id": "HoGEHZkBQJ90"
      },
      "source": [
        "\r\n",
        "import pandas as pd\r\n",
        "dataframe = pd.read_csv(\"https://raw.githubusercontent.com/jeffheaton/aifh/master/vol1/python-examples/datasets/breast-cancer-wisconsin.csv\", engine=\"python\")"
      ],
      "execution_count": null,
      "outputs": []
    },
    {
      "cell_type": "code",
      "metadata": {
        "id": "WOuLTyp_QMUL"
      },
      "source": [
        "dataframe.head()"
      ],
      "execution_count": null,
      "outputs": []
    },
    {
      "cell_type": "code",
      "metadata": {
        "id": "rK77d6F7QMyD"
      },
      "source": [
        "dataframe.describe()"
      ],
      "execution_count": null,
      "outputs": []
    },
    {
      "cell_type": "code",
      "metadata": {
        "id": "t640PnOoQOpf"
      },
      "source": [
        "boxplot = dataframe.boxplot(column=[\"clump_thickness\",\t\"size_uniformity\", \t\"shape_uniformity\",\t\"marginal_adhesion\",\t\"epithelial_size\",\t\"bland_chromatin\"\t, \"normal_nucleoli\"\t], figsize=(15, 10))"
      ],
      "execution_count": null,
      "outputs": []
    },
    {
      "cell_type": "code",
      "metadata": {
        "id": "ndyVSxUVDH12"
      },
      "source": [
        "# define dataset\r\n",
        "cancer = load_breast_cancer()\r\n",
        "X = cancer.data[:150]\r\n",
        "y = cancer.target[:150]\r\n",
        "# Evaluar modelo 1\r\n",
        "model1 = SVC()\r\n",
        "cv1 = RepeatedStratifiedKFold(n_splits=10, n_repeats=3, random_state=1)\r\n",
        "scores1 = cross_val_score(model1, X, y, scoring='accuracy', cv=cv1, n_jobs=-1)\r\n",
        "print('Máquina de soporte vectorial Mean Accuracy: %.3f (%.3f)' % (mean(scores1), std(scores1)))\r\n",
        "# evaluate model 2\r\n",
        "model2 = BaggingClassifier(base_estimator=SVC(), n_estimators=10, random_state=0)\r\n",
        "cv2 = RepeatedStratifiedKFold(n_splits=10, n_repeats=3, random_state=1)\r\n",
        "scores2 = cross_val_score(model2, X, y, scoring='accuracy', cv=cv2, n_jobs=-1)\r\n",
        "print('LinearDiscriminantAnalysis Mean Accuracy: %.3f (%.3f)' % (mean(scores2), std(scores2)))\r\n",
        "# Comprobar si las diferencias son significativas \r\n",
        "t, p = paired_ttest_5x2cv(estimator1=model1, estimator2=model2, X=X, y=y, scoring='accuracy', random_seed=1)\r\n",
        "# Resumen\r\n",
        "print('P-value: %.3f, t-Statistic: %.3f' % (p, t))\r\n",
        "# interpret the result\r\n",
        "if p <= 0.05:\r\n",
        "\tprint('Difference between mean performance is probably real')\r\n",
        "else:\r\n",
        "\tprint('Algorithms probably have the same performance')"
      ],
      "execution_count": null,
      "outputs": []
    },
    {
      "cell_type": "code",
      "metadata": {
        "id": "6yaRO8FND_sY"
      },
      "source": [
        "\r\n"
      ],
      "execution_count": null,
      "outputs": []
    }
  ]
}