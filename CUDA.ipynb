{
  "nbformat": 4,
  "nbformat_minor": 0,
  "metadata": {
    "colab": {
      "name": "CUDA.ipynb",
      "provenance": [],
      "authorship_tag": "ABX9TyMDgMgaQUxWBhCQ+BwCoqG/",
      "include_colab_link": true
    },
    "kernelspec": {
      "name": "python3",
      "display_name": "Python 3"
    },
    "accelerator": "GPU"
  },
  "cells": [
    {
      "cell_type": "markdown",
      "metadata": {
        "id": "view-in-github",
        "colab_type": "text"
      },
      "source": [
        "<a href=\"https://colab.research.google.com/github/mleyvaz/Neural-networks/blob/main/CUDA.ipynb\" target=\"_parent\"><img src=\"https://colab.research.google.com/assets/colab-badge.svg\" alt=\"Open In Colab\"/></a>"
      ]
    },
    {
      "cell_type": "code",
      "metadata": {
        "id": "WcScgT9RyVMt",
        "colab": {
          "base_uri": "https://localhost:8080/"
        },
        "outputId": "fbd54fdd-a2a3-416e-8b44-b25c8ee244a8"
      },
      "source": [
        "!nvidia-smi"
      ],
      "execution_count": 44,
      "outputs": [
        {
          "output_type": "stream",
          "text": [
            "Fri Feb  5 02:08:36 2021       \n",
            "+-----------------------------------------------------------------------------+\n",
            "| NVIDIA-SMI 460.39       Driver Version: 418.67       CUDA Version: 10.1     |\n",
            "|-------------------------------+----------------------+----------------------+\n",
            "| GPU  Name        Persistence-M| Bus-Id        Disp.A | Volatile Uncorr. ECC |\n",
            "| Fan  Temp  Perf  Pwr:Usage/Cap|         Memory-Usage | GPU-Util  Compute M. |\n",
            "|                               |                      |               MIG M. |\n",
            "|===============================+======================+======================|\n",
            "|   0  Tesla T4            Off  | 00000000:00:04.0 Off |                    0 |\n",
            "| N/A   49C    P0    28W /  70W |    227MiB / 15079MiB |      0%      Default |\n",
            "|                               |                      |                 ERR! |\n",
            "+-------------------------------+----------------------+----------------------+\n",
            "                                                                               \n",
            "+-----------------------------------------------------------------------------+\n",
            "| Processes:                                                                  |\n",
            "|  GPU   GI   CI        PID   Type   Process name                  GPU Memory |\n",
            "|        ID   ID                                                   Usage      |\n",
            "|=============================================================================|\n",
            "|  No running processes found                                                 |\n",
            "+-----------------------------------------------------------------------------+\n"
          ],
          "name": "stdout"
        }
      ]
    },
    {
      "cell_type": "code",
      "metadata": {
        "id": "rUmmZGExyean",
        "colab": {
          "base_uri": "https://localhost:8080/",
          "height": 35
        },
        "outputId": "5c1ca33c-c915-4c38-faf4-0e1413779fa9"
      },
      "source": [
        "import tensorflow as tf\r\n",
        "tf.test.gpu_device_name()\r\n",
        "# Standard output is '/device:GPU:0'"
      ],
      "execution_count": 45,
      "outputs": [
        {
          "output_type": "execute_result",
          "data": {
            "application/vnd.google.colaboratory.intrinsic+json": {
              "type": "string"
            },
            "text/plain": [
              "'/device:GPU:0'"
            ]
          },
          "metadata": {
            "tags": []
          },
          "execution_count": 45
        }
      ]
    },
    {
      "cell_type": "code",
      "metadata": {
        "id": "_WnCmLieyhNh",
        "colab": {
          "base_uri": "https://localhost:8080/"
        },
        "outputId": "c1659efb-a7aa-440c-ff8e-4dc654a057db"
      },
      "source": [
        "import torch\r\n",
        "torch.cuda.is_available()\r\n",
        "\r\n",
        "# Output would be True if Pytorch is using GPU otherwise it would be False."
      ],
      "execution_count": 46,
      "outputs": [
        {
          "output_type": "execute_result",
          "data": {
            "text/plain": [
              "True"
            ]
          },
          "metadata": {
            "tags": []
          },
          "execution_count": 46
        }
      ]
    },
    {
      "cell_type": "code",
      "metadata": {
        "id": "ozhDUzck1fIE",
        "colab": {
          "base_uri": "https://localhost:8080/",
          "height": 35
        },
        "outputId": "c7d51af5-82da-42c0-c757-de72b894e976"
      },
      "source": [
        "torch.cuda.get_device_name()"
      ],
      "execution_count": 47,
      "outputs": [
        {
          "output_type": "execute_result",
          "data": {
            "application/vnd.google.colaboratory.intrinsic+json": {
              "type": "string"
            },
            "text/plain": [
              "'Tesla T4'"
            ]
          },
          "metadata": {
            "tags": []
          },
          "execution_count": 47
        }
      ]
    },
    {
      "cell_type": "markdown",
      "metadata": {
        "id": "2-O-BWEf9BAX"
      },
      "source": [
        "# RAM"
      ]
    },
    {
      "cell_type": "code",
      "metadata": {
        "id": "sgNocwg9zh4w",
        "colab": {
          "base_uri": "https://localhost:8080/"
        },
        "outputId": "9e9d9c08-a1cd-4bd6-940f-950c68b47c8d"
      },
      "source": [
        "!cat /proc/meminfo #RAM"
      ],
      "execution_count": 48,
      "outputs": [
        {
          "output_type": "stream",
          "text": [
            "MemTotal:       13333596 kB\n",
            "MemFree:          222948 kB\n",
            "MemAvailable:   11845976 kB\n",
            "Buffers:           94652 kB\n",
            "Cached:          6692588 kB\n",
            "SwapCached:            0 kB\n",
            "Active:          1572768 kB\n",
            "Inactive:       10960896 kB\n",
            "Active(anon):     874752 kB\n",
            "Inactive(anon):     8548 kB\n",
            "Active(file):     698016 kB\n",
            "Inactive(file): 10952348 kB\n",
            "Unevictable:           0 kB\n",
            "Mlocked:               0 kB\n",
            "SwapTotal:             0 kB\n",
            "SwapFree:              0 kB\n",
            "Dirty:               196 kB\n",
            "Writeback:             0 kB\n",
            "AnonPages:       5746468 kB\n",
            "Mapped:           643284 kB\n",
            "Shmem:              9212 kB\n",
            "Slab:             348428 kB\n",
            "SReclaimable:     297800 kB\n",
            "SUnreclaim:        50628 kB\n",
            "KernelStack:        4236 kB\n",
            "PageTables:        18156 kB\n",
            "NFS_Unstable:          0 kB\n",
            "Bounce:                0 kB\n",
            "WritebackTmp:          0 kB\n",
            "CommitLimit:     6666796 kB\n",
            "Committed_AS:    8461008 kB\n",
            "VmallocTotal:   34359738367 kB\n",
            "VmallocUsed:           0 kB\n",
            "VmallocChunk:          0 kB\n",
            "Percpu:             1048 kB\n",
            "AnonHugePages:   4671488 kB\n",
            "ShmemHugePages:        0 kB\n",
            "ShmemPmdMapped:        0 kB\n",
            "HugePages_Total:       0\n",
            "HugePages_Free:        0\n",
            "HugePages_Rsvd:        0\n",
            "HugePages_Surp:        0\n",
            "Hugepagesize:       2048 kB\n",
            "Hugetlb:               0 kB\n",
            "DirectMap4k:      185576 kB\n",
            "DirectMap2M:     7153664 kB\n",
            "DirectMap1G:     8388608 kB\n"
          ],
          "name": "stdout"
        }
      ]
    },
    {
      "cell_type": "code",
      "metadata": {
        "id": "NZzKE0uR9Hp9"
      },
      "source": [
        ""
      ],
      "execution_count": null,
      "outputs": []
    },
    {
      "cell_type": "markdown",
      "metadata": {
        "id": "dADuojyi9Js6"
      },
      "source": [
        "# CPU"
      ]
    },
    {
      "cell_type": "code",
      "metadata": {
        "id": "POeZyrIDznTq",
        "colab": {
          "base_uri": "https://localhost:8080/"
        },
        "outputId": "799d5969-65db-4d0e-993e-23819ebb8273"
      },
      "source": [
        "!cat /proc/cpuinfo"
      ],
      "execution_count": 49,
      "outputs": [
        {
          "output_type": "stream",
          "text": [
            "processor\t: 0\n",
            "vendor_id\t: GenuineIntel\n",
            "cpu family\t: 6\n",
            "model\t\t: 79\n",
            "model name\t: Intel(R) Xeon(R) CPU @ 2.20GHz\n",
            "stepping\t: 0\n",
            "microcode\t: 0x1\n",
            "cpu MHz\t\t: 2200.000\n",
            "cache size\t: 56320 KB\n",
            "physical id\t: 0\n",
            "siblings\t: 2\n",
            "core id\t\t: 0\n",
            "cpu cores\t: 1\n",
            "apicid\t\t: 0\n",
            "initial apicid\t: 0\n",
            "fpu\t\t: yes\n",
            "fpu_exception\t: yes\n",
            "cpuid level\t: 13\n",
            "wp\t\t: yes\n",
            "flags\t\t: fpu vme de pse tsc msr pae mce cx8 apic sep mtrr pge mca cmov pat pse36 clflush mmx fxsr sse sse2 ss ht syscall nx pdpe1gb rdtscp lm constant_tsc rep_good nopl xtopology nonstop_tsc cpuid tsc_known_freq pni pclmulqdq ssse3 fma cx16 pcid sse4_1 sse4_2 x2apic movbe popcnt aes xsave avx f16c rdrand hypervisor lahf_lm abm 3dnowprefetch invpcid_single ssbd ibrs ibpb stibp fsgsbase tsc_adjust bmi1 hle avx2 smep bmi2 erms invpcid rtm rdseed adx smap xsaveopt arat md_clear arch_capabilities\n",
            "bugs\t\t: cpu_meltdown spectre_v1 spectre_v2 spec_store_bypass l1tf mds swapgs taa\n",
            "bogomips\t: 4400.00\n",
            "clflush size\t: 64\n",
            "cache_alignment\t: 64\n",
            "address sizes\t: 46 bits physical, 48 bits virtual\n",
            "power management:\n",
            "\n",
            "processor\t: 1\n",
            "vendor_id\t: GenuineIntel\n",
            "cpu family\t: 6\n",
            "model\t\t: 79\n",
            "model name\t: Intel(R) Xeon(R) CPU @ 2.20GHz\n",
            "stepping\t: 0\n",
            "microcode\t: 0x1\n",
            "cpu MHz\t\t: 2200.000\n",
            "cache size\t: 56320 KB\n",
            "physical id\t: 0\n",
            "siblings\t: 2\n",
            "core id\t\t: 0\n",
            "cpu cores\t: 1\n",
            "apicid\t\t: 1\n",
            "initial apicid\t: 1\n",
            "fpu\t\t: yes\n",
            "fpu_exception\t: yes\n",
            "cpuid level\t: 13\n",
            "wp\t\t: yes\n",
            "flags\t\t: fpu vme de pse tsc msr pae mce cx8 apic sep mtrr pge mca cmov pat pse36 clflush mmx fxsr sse sse2 ss ht syscall nx pdpe1gb rdtscp lm constant_tsc rep_good nopl xtopology nonstop_tsc cpuid tsc_known_freq pni pclmulqdq ssse3 fma cx16 pcid sse4_1 sse4_2 x2apic movbe popcnt aes xsave avx f16c rdrand hypervisor lahf_lm abm 3dnowprefetch invpcid_single ssbd ibrs ibpb stibp fsgsbase tsc_adjust bmi1 hle avx2 smep bmi2 erms invpcid rtm rdseed adx smap xsaveopt arat md_clear arch_capabilities\n",
            "bugs\t\t: cpu_meltdown spectre_v1 spectre_v2 spec_store_bypass l1tf mds swapgs taa\n",
            "bogomips\t: 4400.00\n",
            "clflush size\t: 64\n",
            "cache_alignment\t: 64\n",
            "address sizes\t: 46 bits physical, 48 bits virtual\n",
            "power management:\n",
            "\n"
          ],
          "name": "stdout"
        }
      ]
    },
    {
      "cell_type": "code",
      "metadata": {
        "id": "MW4JRIv14F76",
        "colab": {
          "base_uri": "https://localhost:8080/"
        },
        "outputId": "22169e82-173c-4fc4-d2f6-11fb61b8250a"
      },
      "source": [
        "import pynvml\r\n",
        "\r\n",
        "pynvml.nvmlInit()\r\n",
        "handle = pynvml.nvmlDeviceGetHandleByIndex(0)\r\n",
        "device_name = pynvml.nvmlDeviceGetName(handle)\r\n",
        "\r\n",
        "if device_name != b'Tesla T4':\r\n",
        "  raise Exception(\"\"\"\r\n",
        "    Unfortunately this instance does not have a T4 GPU.\r\n",
        "    \r\n",
        "    Please make sure you've configured Colab to request a GPU instance type.\r\n",
        "    \r\n",
        "    Sometimes Colab allocates a Tesla K80 instead of a T4. Resetting the instance.\r\n",
        "\r\n",
        "    If you get a K80 GPU, try Runtime -> Reset all runtimes...\r\n",
        "  \"\"\")\r\n",
        "else:\r\n",
        "  print('Woo! You got the right kind of GPU!')"
      ],
      "execution_count": 51,
      "outputs": [
        {
          "output_type": "stream",
          "text": [
            "Woo! You got the right kind of GPU!\n"
          ],
          "name": "stdout"
        }
      ]
    },
    {
      "cell_type": "code",
      "metadata": {
        "id": "XstsC-Sn2csI",
        "colab": {
          "base_uri": "https://localhost:8080/"
        },
        "outputId": "33c79282-be0d-4dd4-cc14-ccd14a2b694c"
      },
      "source": [
        "# Install RAPIDS\r\n",
        "!git clone https://github.com/rapidsai/rapidsai-csp-utils.git\r\n",
        "!bash rapidsai-csp-utils/colab/rapids-colab.sh\r\n",
        "\r\n",
        "import sys, os\r\n",
        "\r\n",
        "dist_package_index = sys.path.index('/usr/local/lib/python3.6/dist-packages')\r\n",
        "sys.path = sys.path[:dist_package_index] + ['/usr/local/lib/python3.6/site-packages'] + sys.path[dist_package_index:]\r\n",
        "sys.path\r\n",
        "exec(open('rapidsai-csp-utils/colab/update_modules.py').read(), globals())"
      ],
      "execution_count": 54,
      "outputs": [
        {
          "output_type": "stream",
          "text": [
            "fatal: destination path 'rapidsai-csp-utils' already exists and is not an empty directory.\n",
            "PLEASE READ\n",
            "********************************************************************************************************\n",
            "Changes:\n",
            "1. IMPORTANT CHANGES: RAPIDS on Colab will be pegged to 0.14 Stable until further notice.  This version of RAPIDS, while works, is outdated.  We have alternative solutions, https://app.blazingsql.com, to run the latest versions of RAPIDS\n",
            "2. Default stable version is now 0.14.  Nightly will redirect to 0.14.\n",
            "3. You can now declare your RAPIDSAI version as a CLI option and skip the user prompts (ex: '0.14' or '0.15', between 0.13 to 0.14, without the quotes): \n",
            "        \"!bash rapidsai-csp-utils/colab/rapids-colab.sh <version/label>\"\n",
            "        Examples: '!bash rapidsai-csp-utils/colab/rapids-colab.sh 0.14', or '!bash rapidsai-csp-utils/colab/rapids-colab.sh stable', or '!bash rapidsai-csp-utils/colab/rapids-colab.sh s'\n",
            "                  '!bash rapidsai-csp-utils/colab/rapids-colab.sh 0.15, or '!bash rapidsai-csp-utils/colab/rapids-colab.sh nightly', or '!bash rapidsai-csp-utils/colab/rapids-colab.sh n'\n",
            "Enjoy using RAPIDS!  If you have any issues with or suggestions for RAPIDSAI on Colab, please create a bug request on https://github.com/rapidsai/rapidsai-csp-utils/issues/new.  Thanks!\n",
            "As you didn't specify a RAPIDS version, please enter in the box your desired RAPIDS version (ex: '0.14' or '0.15', between 0.13 to 0.15, without the quotes)\n",
            "and hit Enter. If you need stability, use 0.14. If you want bleeding edge, use our nightly version (0.15), but understand that caveats that come with nightly versions.\n",
            "0.15\n",
            "You've entered and incorrect RAPIDS version.  please make the neccessary changes and try again\n",
            "Checking for GPU type:\n",
            "Traceback (most recent call last):\n",
            "  File \"rapidsai-csp-utils/colab/env-check.py\", line 7, in <module>\n",
            "    import pynvml\n",
            "ModuleNotFoundError: No module named 'pynvml'\n",
            "\n",
            "************************************************\n",
            "Your Google Colab instance has RAPIDS installed!\n",
            "************************************************\n",
            "***********************************************************************\n",
            "Let us check on those pyarrow and cffi versions...\n",
            "***********************************************************************\n",
            "\n",
            "You're don't have pyarrow.\n",
            "unloaded cffi 1.11.5\n",
            "loaded cffi 1.11.5\n"
          ],
          "name": "stdout"
        }
      ]
    },
    {
      "cell_type": "code",
      "metadata": {
        "id": "il4duQn73BDe"
      },
      "source": [
        "import pandas as pd\r\n",
        "import numpy as np\r\n",
        "0.15\r\n",
        "\r\n",
        "\r\n",
        "pandas_df = pd.DataFrame({'a': np.random.randint(0, 100000000, size=100000000),\r\n",
        "                          'b': np.random.randint(0, 100000000, size=100000000)})\r\n",
        "\r\n",
        "                          \r\n"
      ],
      "execution_count": 55,
      "outputs": []
    },
    {
      "cell_type": "code",
      "metadata": {
        "id": "4P1tHFbH4ZWA",
        "colab": {
          "base_uri": "https://localhost:8080/"
        },
        "outputId": "32fe1d31-6a35-455c-f7ee-f912b7410a29"
      },
      "source": [
        "# Timing Pandas\r\n",
        "# Output: 82.2 ms per loop\r\n",
        "%timeit pandas_df.a.mean()\r\n",
        "\r\n"
      ],
      "execution_count": 56,
      "outputs": [
        {
          "output_type": "stream",
          "text": [
            "10 loops, best of 3: 140 ms per loop\n"
          ],
          "name": "stdout"
        }
      ]
    }
  ]
}