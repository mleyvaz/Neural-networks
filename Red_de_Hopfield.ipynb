{
  "nbformat": 4,
  "nbformat_minor": 0,
  "metadata": {
    "colab": {
      "name": "Red de Hopfield.ipynb",
      "provenance": [],
      "authorship_tag": "ABX9TyNnG2ImPRaY+R+2vrxjbFPm",
      "include_colab_link": true
    },
    "kernelspec": {
      "name": "python3",
      "display_name": "Python 3"
    }
  },
  "cells": [
    {
      "cell_type": "markdown",
      "metadata": {
        "id": "view-in-github",
        "colab_type": "text"
      },
      "source": [
        "<a href=\"https://colab.research.google.com/github/mleyvaz/Neural-networks/blob/main/Red_de_Hopfield.ipynb\" target=\"_parent\"><img src=\"https://colab.research.google.com/assets/colab-badge.svg\" alt=\"Open In Colab\"/></a>"
      ]
    },
    {
      "cell_type": "markdown",
      "metadata": {
        "id": "9BMpI38KTAON"
      },
      "source": [
        "# Redes de Hopfield\r\n"
      ]
    },
    {
      "cell_type": "markdown",
      "metadata": {
        "id": "ybdR45z9TGZk"
      },
      "source": [
        "## Inferencia \r\n",
        "\r\n",
        "  $$\r\n",
        " sign( \\begin{bmatrix}\r\n",
        "    1 & 1 & 1 & -1\\\\\r\n",
        "  \\end{bmatrix}*\r\n",
        "  \\begin{bmatrix}\r\n",
        "    0 & 2 & 2 & -2\\\\\r\n",
        "    2 & 0 & 2 & -2\\\\\r\n",
        "    2 & 2 & 0 & -2\\\\\r\n",
        "    -2 & 2 & 2 & 0\r\n",
        "  \\end{bmatrix})\r\n",
        "\r\n",
        " =sign\\begin{bmatrix}6,2,2,-6 \\end{bmatrix}=\\begin{bmatrix}\r\n",
        "    1 & 1 & 1 & -1\\\\\r\n",
        "  \\end{bmatrix}$$\r\n",
        "\r\n",
        "\r\n",
        "\r\n",
        "   "
      ]
    },
    {
      "cell_type": "code",
      "metadata": {
        "colab": {
          "base_uri": "https://localhost:8080/"
        },
        "id": "gCtDtb4eTIXC",
        "outputId": "bc6f38a8-8254-4edc-8d63-279a4dc382d0"
      },
      "source": [
        "import numpy as np \r\n",
        "a=np.matrix([[0,2,2,-2],[2,0,2,-2],[2,2,0,-2],[-2,2,2,0]])\r\n",
        "a"
      ],
      "execution_count": null,
      "outputs": [
        {
          "output_type": "execute_result",
          "data": {
            "text/plain": [
              "matrix([[ 0,  2,  2, -2],\n",
              "        [ 2,  0,  2, -2],\n",
              "        [ 2,  2,  0, -2],\n",
              "        [-2,  2,  2,  0]])"
            ]
          },
          "metadata": {
            "tags": []
          },
          "execution_count": 4
        }
      ]
    },
    {
      "cell_type": "code",
      "metadata": {
        "colab": {
          "base_uri": "https://localhost:8080/"
        },
        "id": "mha5wrJUS8CN",
        "outputId": "d4cd3ad2-7ce3-4a22-d9c1-11e5263f69d4"
      },
      "source": [
        "b=np.matrix([1,1,1,-1])\r\n",
        "b"
      ],
      "execution_count": null,
      "outputs": [
        {
          "output_type": "execute_result",
          "data": {
            "text/plain": [
              "matrix([[ 1,  1,  1, -1]])"
            ]
          },
          "metadata": {
            "tags": []
          },
          "execution_count": 7
        }
      ]
    },
    {
      "cell_type": "code",
      "metadata": {
        "colab": {
          "base_uri": "https://localhost:8080/"
        },
        "id": "xE1lJXt3WyH-",
        "outputId": "7f2f1b78-9006-45fc-9b78-ffc131249741"
      },
      "source": [
        "c=np.dot(b,a)\r\n",
        "c"
      ],
      "execution_count": null,
      "outputs": [
        {
          "output_type": "execute_result",
          "data": {
            "text/plain": [
              "matrix([[ 6,  2,  2, -6]])"
            ]
          },
          "metadata": {
            "tags": []
          },
          "execution_count": 12
        }
      ]
    },
    {
      "cell_type": "code",
      "metadata": {
        "colab": {
          "base_uri": "https://localhost:8080/"
        },
        "id": "fQTYVKBiXdbg",
        "outputId": "29865e09-fcaa-4ace-a8f3-3a3f7e540495"
      },
      "source": [
        "d=np.sign(c)\r\n",
        "d"
      ],
      "execution_count": null,
      "outputs": [
        {
          "output_type": "execute_result",
          "data": {
            "text/plain": [
              "matrix([[ 1,  1,  1, -1]])"
            ]
          },
          "metadata": {
            "tags": []
          },
          "execution_count": 13
        }
      ]
    },
    {
      "cell_type": "markdown",
      "metadata": {
        "id": "NeXYuarrS_P8"
      },
      "source": [
        "## Entrenamiento"
      ]
    },
    {
      "cell_type": "markdown",
      "metadata": {
        "id": "6pHkAWYUYwB9"
      },
      "source": [
        "Se desea entrenar una Red de Hopfield bastante sencilla, que sea capaz de reconocer información (patrones) de imágenes formadas por cuatro pixeles, en una matriz de 2x2.\r\n",
        "\r\n",
        "\r\n",
        "![Imagen1.png](data:image/png;base64,iVBORw0KGgoAAAANSUhEUgAAAtAAAAB+CAMAAAA6ANYZAAAAAXNSR0IArs4c6QAAAARnQU1BAACxjwv8YQUAAABvUExURQAAAAAAAAAAAAAAAAAAAAAAAAAAAAAAAAAAAAAAAAAAAAAAAAAAAAAAAAAAAAAAAAAAAAAAAAAAAAAAAAAAAAAAAAAAAAAAAAAAAAAAAAAAAAAAAAAAAAAAAAAAAAAAAAAAAAAAAAAAAAAAAAAAAG3qvUYAAAAkdFJOUwAOHjhMVGdsen+Gi4yWmqSlqKqutby+wMLI09fe4/H2+vv8/aGXMVMAAAAJcEhZcwAAFxEAABcRAcom8z8AAAKsSURBVHhe7ddZblQxAEVBQwfC0EBowtiMwftfIwl4Cz4Sraqv+20d+fmNcXzxhO2OT9dgo+MY4zDhUpzHeDx/f2S3L/P7WuzzdX54CPrH/T3NXlfz81rs82y+FnRD0AVBZwRdEHRG0AVBZwRdEHRG0AVBZwRdEHRG0AVBZwRdEHRG0AVBZwRdEHRG0AVBZwRdEHRG0AVBZwRdEHRG0AVBZwRdEHRG0AVBZwRdEHRG0AVBZwRdEHRG0AVBZwRdEHRG0AVBZwRdEHRG0AVBZwRdEHRG0AVBZwRdEHRG0AVBZwRdEHRG0AVBZwRdEHRG0AVBZwRdEHRG0AVBZwRdEHRG0AVBZwRdEHRG0AVBZwRdEHRG0AVBZwRdEHRG0AVBZwRdEHRG0AVBZwRdEHRG0AVBZwRdEHRG0AVBZwRdEHRG0AVBZwRdEHRG0AVBZwRdEHRG0AVBZwRdEHRG0IUV9M/n7HYzv63FPu/nmzEOEy7F+eGG/vWK3W7XgbPXO2/oxtU6cPbyUxgRdEPQEUE3BB0RdEPQEUE3BB0RdEPQEUE3BB0RdEPQEUE3BB0RdEPQEUE3BB0RdEPQEUE3BB0RdEPQEUE3BB0RdEPQEUE3BB0RdEPQEUE3BB0RdEPQEUE3BB0RdEPQEUE3BB0RdEPQEUE3BB0RdEPQEUE3BB0RdEPQEUE3BB0RdEPQEUE3BB0RdEPQEUE3BB0RdEPQEUE3BB0RdEPQEUE3BB0RdEPQEUE3BB0RdEPQEUE3BB0RdEPQEUE3BB0RdEPQEUE3BB0RdEPQEUE3BB0RdEPQEUE3BB0RdEPQEUE3BB0RdEPQEUE3BB0RdEPQEUE3BB0RdEPQEUE3BB0RdONv0Hdv2e3TOnD2uh3jsCb8/873X8PTzTXbnV6uwUanR/9eeHAZxvgD8c/q3J01z70AAAAASUVORK5CYII=)\r\n",
        "![Imagen2.png](data:image/png;base64,iVBORw0KGgoAAAANSUhEUgAAAtAAAAB+CAMAAAA6ANYZAAAAAXNSR0IArs4c6QAAAARnQU1BAACxjwv8YQUAAABLUExURQAAAAAAAAAAAAAAAAAAAAAAAAAAAAAAAAAAAAAAAAAAAAAAAAAAAAAAAAAAAAAAAAAAAAAAAAAAAAAAAAAAAAAAAAAAAAAAAAAAAOZgOnQAAAAYdFJOUwBUWFlfYWdobHZ+hIyOkpadqKqz0Njg5QF54GkAAAAJcEhZcwAAFxEAABcRAcom8z8AAAI0SURBVHhe7dZZblVBEETBBjNjbGMm73+lWHC3kCm9VMRP13frqFTn3L97Q9z99RJ0d3/OeXiBFU/nfLxGuH2fz3l7jXD73guaJYJmiqCZImimCJopgmaKoJkiaKYImimCZoqgmSJopgiaKYJmiqCZImimCJopgmaKoJkiaKYImimCZoqgmSJopgiaKYJmiqCZImimCJopgmaKoJkiaKYImimCZoqgmSJopgiaKYJmiqCZImimCJopgmaKoJkiaKYImimCZoqgmSJopgiaKYJmiqCZImimCJopgmaKoJkiaKYImimCZspr0A/XCLfvyYZu+flI2m8nR8+3Q9oPQfcIOk/QRYLOE3SRoPMEXSToPEEXCTpP0EWCzhN0kaDzBF0k6DxBFwk6T9BFgs4TdJGg8wRdJOg8QRcJOk/QRYLOE3SRoPMEXSToPEEXCTpP0EWCzhN0kaDzBF0k6DxBFwk6T9BFgs4TdJGg8wRdJOg8QRcJOk/QRYLOE3SRoPMEXSToPEEXCTpP0EWCzhN0kaDzBF0k6DxBFwk6T9BFgs4TdJGg8wRdJOg8QRcJOk/QRYLOE3SRoPMEXSToPEEXCTpP0EWCzhN0kaDzBF0k6DxBFwk6T9BFgs4TdJGg8wRdJOg8QRcJOk/QRYLOE3SRoPMEXSToPEEXCTpP0EWCzhN0kaDzBF0k6DxBFwk671/Qd9eHk/XrO2l/Xj6c83B9ONy+p9c9/fz1E3HP10vQl+f/pweMOOcvVtnGUmYcWvEAAAAASUVORK5CYII=)"
      ]
    },
    {
      "cell_type": "code",
      "metadata": {
        "id": "6wmjA2olY5er"
      },
      "source": [
        "# Representar los patrones\r\n",
        "img1=np.matrix([1,1,1,-1])\r\n",
        "img2=np.matrix([-1,-1,-1,1])"
      ],
      "execution_count": null,
      "outputs": []
    },
    {
      "cell_type": "code",
      "metadata": {
        "id": "5GFjoUCnZV6f"
      },
      "source": [
        "# Multiplicar por la trampuesta\r\n",
        "\r\n",
        "a=np.dot(img1.T,img1)\r\n",
        "b=np.dot(img2.T,img2)\r\n",
        "\r\n"
      ],
      "execution_count": null,
      "outputs": []
    },
    {
      "cell_type": "code",
      "metadata": {
        "colab": {
          "base_uri": "https://localhost:8080/"
        },
        "id": "F9I2fBf_aKSH",
        "outputId": "49f381d0-354d-4d3b-905a-f34b10aaaead"
      },
      "source": [
        "# sumar y restar por 2*Matriz identidad=hacer 0 la diagonal principal\r\n",
        "hop=a+b-2*np.identity(4)\r\n",
        "hop"
      ],
      "execution_count": null,
      "outputs": [
        {
          "output_type": "execute_result",
          "data": {
            "text/plain": [
              "matrix([[ 0.,  2.,  2., -2.],\n",
              "        [ 2.,  0.,  2., -2.],\n",
              "        [ 2.,  2.,  0., -2.],\n",
              "        [-2., -2., -2.,  0.]])"
            ]
          },
          "metadata": {
            "tags": []
          },
          "execution_count": 28
        }
      ]
    }
  ]
}