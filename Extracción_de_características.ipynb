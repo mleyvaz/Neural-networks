{
  "nbformat": 4,
  "nbformat_minor": 0,
  "metadata": {
    "colab": {
      "name": "Extracción de características ",
      "provenance": [],
      "authorship_tag": "ABX9TyNo6cGhEVPqY2KCwxX8lW8Q",
      "include_colab_link": true
    },
    "kernelspec": {
      "name": "python3",
      "display_name": "Python 3"
    }
  },
  "cells": [
    {
      "cell_type": "markdown",
      "metadata": {
        "id": "view-in-github",
        "colab_type": "text"
      },
      "source": [
        "<a href=\"https://colab.research.google.com/github/mleyvaz/Neural-networks/blob/main/Extracci%C3%B3n_de_caracter%C3%ADsticas.ipynb\" target=\"_parent\"><img src=\"https://colab.research.google.com/assets/colab-badge.svg\" alt=\"Open In Colab\"/></a>"
      ]
    },
    {
      "cell_type": "markdown",
      "metadata": {
        "id": "wbtgssOeK-6x"
      },
      "source": [
        "# Extraccion de características "
      ]
    },
    {
      "cell_type": "markdown",
      "metadata": {
        "id": "cCFJ0hKvYERs"
      },
      "source": [
        "Harris Corner en OpenCV"
      ]
    },
    {
      "cell_type": "code",
      "metadata": {
        "id": "N6fhkGbbYgvj"
      },
      "source": [
        "#Librerias \r\n",
        "import numpy as np\r\n",
        "import pandas as pd\r\n",
        "import cv2  \r\n",
        "from google.colab.patches import cv2_imshow # for image display\r\n",
        "from skimage import io\r\n",
        "from PIL import Image \r\n",
        "import matplotlib.pylab as plt"
      ],
      "execution_count": null,
      "outputs": []
    },
    {
      "cell_type": "code",
      "metadata": {
        "id": "wmiHI9QRYDT7"
      },
      "source": [
        "import cv2\r\n",
        "import numpy as np\r\n",
        "\r\n",
        "img =  io.imread('https://upload.wikimedia.org/wikipedia/commons/thumb/e/ee/Jewelry_box.jpg/1024px-Jewelry_box.jpg')\r\n",
        "gray = cv2.cvtColor(img, cv2.COLOR_BGR2GRAY)\r\n",
        "\r\n",
        "gray = np.float32(gray)\r\n",
        "dst = cv2.cornerHarris(gray, 2, 3, 0.04)\r\n",
        " \r\n",
        "height, width = dst.shape\r\n",
        "color = (0, 255, 0)\r\n",
        "\r\n",
        "for y in range(0, height):\r\n",
        "    for x in range(0, width):\r\n",
        "        if dst.item(y, x) > 0.01 * dst.max():\r\n",
        "            cv2.circle(img, (x, y), 3, color, cv2.FILLED, cv2.LINE_AA)\r\n",
        "\r\n",
        "cv2_imshow(img)\r\n"
      ],
      "execution_count": null,
      "outputs": []
    },
    {
      "cell_type": "code",
      "metadata": {
        "id": "0sW2LUxoLC2B"
      },
      "source": [
        ""
      ],
      "execution_count": null,
      "outputs": []
    },
    {
      "cell_type": "markdown",
      "metadata": {
        "id": "2U2idOFiLGav"
      },
      "source": [
        "HOG"
      ]
    },
    {
      "cell_type": "code",
      "metadata": {
        "id": "yJzjuSsSVuAX"
      },
      "source": [
        "#importing required libraries\r\n",
        "from skimage.io import imread\r\n",
        "from skimage.transform import resize\r\n",
        "from skimage.feature import hog\r\n",
        "from skimage import exposure\r\n",
        "import matplotlib.pyplot as plt\r\n",
        "#creating hog features\r\n",
        "fd, hog_image = hog(image, orientations=9, pixels_per_cell=(8, 8),\r\n",
        "                \tcells_per_block=(2, 2), visualize=True, multichannel=True)\r\n",
        "plt.axis(\"off\")\r\n",
        "plt.imshow(hog_image, cmap=\"gray\")"
      ],
      "execution_count": null,
      "outputs": []
    },
    {
      "cell_type": "markdown",
      "metadata": {
        "id": "INL5TOiiQiOp"
      },
      "source": [
        "Segmentacion "
      ]
    },
    {
      "cell_type": "markdown",
      "metadata": {
        "id": "PjGSzH9iQzlk"
      },
      "source": [
        " plot an image in 3D space using python matplotlib library."
      ]
    },
    {
      "cell_type": "code",
      "metadata": {
        "id": "yS9NDMDaQj0a"
      },
      "source": [
        "import matplotlib.pyplot as plt\r\n",
        "from mpl_toolkits.mplot3d import Axes3D\r\n",
        "img =  io.imread('https://upload.wikimedia.org/wikipedia/commons/thumb/e/ee/Jewelry_box.jpg/1024px-Jewelry_box.jpg')\r\n",
        "img = cv2.cvtColor(img, cv2.COLOR_BGR2RGB)\r\n",
        "r, g, b = cv2.split(img)\r\n",
        "r = r.flatten()\r\n",
        "g = g.flatten()\r\n",
        "b = b.flatten()#plotting \r\n",
        "fig = plt.figure()\r\n",
        "ax = Axes3D(fig)\r\n",
        "ax.scatter(r, g, b)\r\n",
        "plt.show()"
      ],
      "execution_count": null,
      "outputs": []
    },
    {
      "cell_type": "code",
      "metadata": {
        "id": "SBzzPngBQ_TX"
      },
      "source": [
        "img=cv2.cvtColor(img,cv2.COLOR_BGR2RGB)\r\n",
        "vectorized = img.reshape((-1,3))\r\n",
        "vectorized = np.float32(vectorized)\r\n",
        "criteria = (cv2.TERM_CRITERIA_EPS + cv2.TERM_CRITERIA_MAX_ITER, 10, 1.0)\r\n",
        "K = 3\r\n",
        "attempts=10\r\n",
        "ret,label,center=cv2.kmeans(vectorized,K,None,criteria,attempts,cv2.KMEANS_PP_CENTERS)\r\n",
        "center = np.uint8(center)\r\n",
        "res = center[label.flatten()]\r\n",
        "result_image = res.reshape((img.shape))\r\n",
        "cv2_imshow(result_image)"
      ],
      "execution_count": null,
      "outputs": []
    },
    {
      "cell_type": "code",
      "metadata": {
        "id": "iVSq5byNLFsZ"
      },
      "source": [
        ""
      ],
      "execution_count": null,
      "outputs": []
    }
  ]
}