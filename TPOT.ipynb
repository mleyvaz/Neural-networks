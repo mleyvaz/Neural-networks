{
  "nbformat": 4,
  "nbformat_minor": 0,
  "metadata": {
    "colab": {
      "name": "Kaggle-imagenes SVM KEras",
      "provenance": [],
      "authorship_tag": "ABX9TyOBBFMM2l95jz2eESPRmb7S",
      "include_colab_link": true
    },
    "kernelspec": {
      "name": "python3",
      "display_name": "Python 3"
    },
    "accelerator": "GPU"
  },
  "cells": [
    {
      "cell_type": "markdown",
      "metadata": {
        "id": "view-in-github",
        "colab_type": "text"
      },
      "source": [
        "<a href=\"https://colab.research.google.com/github/mleyvaz/Neural-networks/blob/main/TPOT.ipynb\" target=\"_parent\"><img src=\"https://colab.research.google.com/assets/colab-badge.svg\" alt=\"Open In Colab\"/></a>"
      ]
    },
    {
      "cell_type": "code",
      "metadata": {
        "id": "2omZRs_8tXfB",
        "outputId": "71dc634d-5ed1-4a95-a21b-337787e4df65",
        "colab": {
          "base_uri": "https://localhost:8080/"
        }
      },
      "source": [
        "!pip install kaggle"
      ],
      "execution_count": 1,
      "outputs": [
        {
          "output_type": "stream",
          "text": [
            "Requirement already satisfied: kaggle in /usr/local/lib/python3.7/dist-packages (1.5.10)\n",
            "Requirement already satisfied: python-slugify in /usr/local/lib/python3.7/dist-packages (from kaggle) (4.0.1)\n",
            "Requirement already satisfied: python-dateutil in /usr/local/lib/python3.7/dist-packages (from kaggle) (2.8.1)\n",
            "Requirement already satisfied: six>=1.10 in /usr/local/lib/python3.7/dist-packages (from kaggle) (1.15.0)\n",
            "Requirement already satisfied: certifi in /usr/local/lib/python3.7/dist-packages (from kaggle) (2020.12.5)\n",
            "Requirement already satisfied: requests in /usr/local/lib/python3.7/dist-packages (from kaggle) (2.23.0)\n",
            "Requirement already satisfied: urllib3 in /usr/local/lib/python3.7/dist-packages (from kaggle) (1.24.3)\n",
            "Requirement already satisfied: tqdm in /usr/local/lib/python3.7/dist-packages (from kaggle) (4.41.1)\n",
            "Requirement already satisfied: text-unidecode>=1.3 in /usr/local/lib/python3.7/dist-packages (from python-slugify->kaggle) (1.3)\n",
            "Requirement already satisfied: idna<3,>=2.5 in /usr/local/lib/python3.7/dist-packages (from requests->kaggle) (2.10)\n",
            "Requirement already satisfied: chardet<4,>=3.0.2 in /usr/local/lib/python3.7/dist-packages (from requests->kaggle) (3.0.4)\n"
          ],
          "name": "stdout"
        }
      ]
    },
    {
      "cell_type": "code",
      "metadata": {
        "id": "om1XneMmuKQk",
        "outputId": "e826bdb2-7c8e-4754-847e-2be53631e158",
        "colab": {
          "base_uri": "https://localhost:8080/"
        }
      },
      "source": [
        "from google.colab import drive\r\n",
        "drive.mount('/content/gdrive')"
      ],
      "execution_count": 2,
      "outputs": [
        {
          "output_type": "stream",
          "text": [
            "Mounted at /content/gdrive\n"
          ],
          "name": "stdout"
        }
      ]
    },
    {
      "cell_type": "code",
      "metadata": {
        "id": "o1jouiPUveht"
      },
      "source": [
        "import os \r\n",
        "os.environ['KAGGLE_CONFIG_DIR']=\"/content/gdrive/MyDrive/cancer\"\r\n"
      ],
      "execution_count": 3,
      "outputs": []
    },
    {
      "cell_type": "code",
      "metadata": {
        "id": "SNmyAKSkwd8l",
        "outputId": "c5b947a7-bd42-4991-8057-18d1ea917938",
        "colab": {
          "base_uri": "https://localhost:8080/"
        }
      },
      "source": [
        "%cd /content/gdrive/MyDrive/cancer"
      ],
      "execution_count": 4,
      "outputs": [
        {
          "output_type": "stream",
          "text": [
            "/content/gdrive/MyDrive/cancer\n"
          ],
          "name": "stdout"
        }
      ]
    },
    {
      "cell_type": "code",
      "metadata": {
        "id": "CCB_l5zNxbJQ",
        "outputId": "318042dd-2cc4-476a-eb1f-8b20f1a316f9",
        "colab": {
          "base_uri": "https://localhost:8080/"
        }
      },
      "source": [
        "!kaggle datasets download -d simjeg/lymphoma-subtype-classification-fl-vs-cll"
      ],
      "execution_count": 5,
      "outputs": [
        {
          "output_type": "stream",
          "text": [
            "lymphoma-subtype-classification-fl-vs-cll.zip: Skipping, found more recently modified local copy (use --force to force download)\n"
          ],
          "name": "stdout"
        }
      ]
    },
    {
      "cell_type": "code",
      "metadata": {
        "id": "UvL0X1_yvaOT",
        "outputId": "16819c21-8f8d-48ef-bafd-295dc5b6e1a6",
        "colab": {
          "base_uri": "https://localhost:8080/"
        }
      },
      "source": [
        "!ls"
      ],
      "execution_count": 6,
      "outputs": [
        {
          "output_type": "stream",
          "text": [
            "image_classifier  lymphoma-subtype-classification-fl-vs-cll.zip  X.npy\n",
            "kaggle.json\t  model.png\t\t\t\t\t Y.npy\n"
          ],
          "name": "stdout"
        }
      ]
    },
    {
      "cell_type": "code",
      "metadata": {
        "id": "GYyYEcuyvyOz",
        "outputId": "235146e6-37df-432c-d483-0c68f10fe5e3",
        "colab": {
          "base_uri": "https://localhost:8080/"
        }
      },
      "source": [
        "!apt install unzip"
      ],
      "execution_count": 7,
      "outputs": [
        {
          "output_type": "stream",
          "text": [
            "Reading package lists... Done\n",
            "Building dependency tree       \n",
            "Reading state information... Done\n",
            "unzip is already the newest version (6.0-21ubuntu1.1).\n",
            "0 upgraded, 0 newly installed, 0 to remove and 29 not upgraded.\n"
          ],
          "name": "stdout"
        }
      ]
    },
    {
      "cell_type": "code",
      "metadata": {
        "id": "2xjR_s3GwHI_"
      },
      "source": [
        "!unzip lymphoma-subtype-classification-fl-vs-cll.zip"
      ],
      "execution_count": null,
      "outputs": []
    },
    {
      "cell_type": "code",
      "metadata": {
        "id": "NzDMQRSKwaPg"
      },
      "source": [
        "import numpy as np\r\n",
        "X = np.load('X.npy') # images\r\n",
        "Y = np.load('Y.npy') # labels associated to images (0 = no IDC, 1 = IDC)"
      ],
      "execution_count": 12,
      "outputs": []
    },
    {
      "cell_type": "code",
      "metadata": {
        "id": "ZRJP1wVJwuw0",
        "outputId": "0d3452d1-e97a-4031-b5d8-faf8559ebb69",
        "colab": {
          "base_uri": "https://localhost:8080/"
        }
      },
      "source": [
        "def describeData(a,b):\r\n",
        "    print('Total number of images: {}'.format(len(a)))\r\n",
        "    print('Number of IDC(-) Images: {}'.format(np.sum(b==0)))\r\n",
        "    print('Number of IDC(+) Images: {}'.format(np.sum(b==1)))\r\n",
        "    print('Percentage of positive images: {:.2f}%'.format(100*np.mean(b)))\r\n",
        "    print('Image shape (Width, Height, Channels): {}'.format(a[0].shape))\r\n",
        "describeData(X,Y)"
      ],
      "execution_count": 13,
      "outputs": [
        {
          "output_type": "stream",
          "text": [
            "Total number of images: 5547\n",
            "Number of IDC(-) Images: 2759\n",
            "Number of IDC(+) Images: 2788\n",
            "Percentage of positive images: 50.26%\n",
            "Image shape (Width, Height, Channels): (50, 50, 3)\n"
          ],
          "name": "stdout"
        }
      ]
    },
    {
      "cell_type": "code",
      "metadata": {
        "id": "Cav5rtgoyHaj",
        "outputId": "23d0bbf7-7cda-49c8-cc80-489be84a3004",
        "colab": {
          "base_uri": "https://localhost:8080/",
          "height": 66
        }
      },
      "source": [
        "import cv2  \r\n",
        "from google.colab.patches import cv2_imshow # for image display\r\n",
        "from PIL import Image \r\n",
        "import matplotlib.pylab as plt\r\n",
        "imgs0 = X[Y==0] # (0 = no IDC, 1 = IDC)\r\n",
        "imgs1 = X[Y==1] \r\n",
        "cv2_imshow(imgs0[100])   "
      ],
      "execution_count": 14,
      "outputs": [
        {
          "output_type": "display_data",
          "data": {
            "image/png": "[encoded data removed]",
            "text/plain": [
              "<PIL.Image.Image image mode=RGB size=50x50 at 0x7F3038793090>"
            ]
          },
          "metadata": {
            "tags": []
          }
        }
      ]
    },
    {
      "cell_type": "code",
      "metadata": {
        "id": "IpwsuwzaySak",
        "outputId": "51b8ac57-20ee-42e7-cc50-65d18d3a8c09",
        "colab": {
          "base_uri": "https://localhost:8080/",
          "height": 66
        }
      },
      "source": [
        "cv2_imshow(imgs1[100])"
      ],
      "execution_count": 15,
      "outputs": [
        {
          "output_type": "display_data",
          "data": {
            "image/png": "[encoded data removed]",
            "text/plain": [
              "<PIL.Image.Image image mode=RGB size=50x50 at 0x7F3038793450>"
            ]
          },
          "metadata": {
            "tags": []
          }
        }
      ]
    },
    {
      "cell_type": "code",
      "metadata": {
        "id": "yw1SZikVycWl"
      },
      "source": [
        "import sklearn.model_selection as model_selection\r\n",
        "X_train, X_test, Y_train, Y_test =  model_selection.train_test_split(X, Y, test_size=0.2)"
      ],
      "execution_count": 16,
      "outputs": []
    },
    {
      "cell_type": "code",
      "metadata": {
        "id": "B1nI6cnrytsr",
        "outputId": "354b1dc0-c56b-465b-8637-175e885d3215",
        "colab": {
          "base_uri": "https://localhost:8080/"
        }
      },
      "source": [
        "X_trainShape = X_train.shape[1]*X_train.shape[2]*X_train.shape[3]\r\n",
        "X_testShape = X_test.shape[1]*X_test.shape[2]*X_test.shape[3]\r\n",
        "\r\n",
        "X_trainFlat = X_train.reshape(X_train.shape[0], X_trainShape)\r\n",
        "X_testFlat = X_test.reshape(X_test.shape[0], X_testShape)\r\n",
        "X_testFlat[100]"
      ],
      "execution_count": 17,
      "outputs": [
        {
          "output_type": "execute_result",
          "data": {
            "text/plain": [
              "array([211, 138, 172, ..., 211, 157, 189], dtype=uint8)"
            ]
          },
          "metadata": {
            "tags": []
          },
          "execution_count": 17
        }
      ]
    },
    {
      "cell_type": "markdown",
      "metadata": {
        "id": "3DwkzQXmaxgr"
      },
      "source": [
        "# AutoML programacion genética\r\n",
        "http://epistasislab.github.io/tpot/\r\n"
      ]
    },
    {
      "cell_type": "code",
      "metadata": {
        "id": "wAVnPci6a3n1"
      },
      "source": [
        "pip install tpot"
      ],
      "execution_count": null,
      "outputs": []
    },
    {
      "cell_type": "code",
      "metadata": {
        "id": "QMeQN0A0lYBy"
      },
      "source": [
        "from tpot import TPOTClassifier\r\n",
        "tpot = TPOTClassifier(generations=3, population_size=4,  verbosity=2)\r\n",
        "tpot.fit(X_trainFlat, Y_train)\r\n"
      ],
      "execution_count": null,
      "outputs": []
    },
    {
      "cell_type": "code",
      "metadata": {
        "id": "p8i7N8XTvs5d"
      },
      "source": [
        "print(tpot.score( X_testFlat, Y_test))\r\n",
        "tpot.export('tpot_mnist_pipeline.py')\r\n",
        "tpot.fitted_pipeline_"
      ],
      "execution_count": null,
      "outputs": []
    }
  ]
}