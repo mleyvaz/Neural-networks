{
  "nbformat": 4,
  "nbformat_minor": 0,
  "metadata": {
    "colab": {
      "name": "Metodología de la Investigación.ipynb",
      "provenance": [],
      "authorship_tag": "ABX9TyNxEmRgYEWL1Sa2btrbkp/W",
      "include_colab_link": true
    },
    "kernelspec": {
      "name": "python3",
      "display_name": "Python 3"
    }
  },
  "cells": [
    {
      "cell_type": "markdown",
      "metadata": {
        "id": "view-in-github",
        "colab_type": "text"
      },
      "source": [
        "<a href=\"https://colab.research.google.com/github/mleyvaz/Neural-networks/blob/main/Metodolog%C3%ADa_de_la_Investigaci%C3%B3n.ipynb\" target=\"_parent\"><img src=\"https://colab.research.google.com/assets/colab-badge.svg\" alt=\"Open In Colab\"/></a>"
      ]
    },
    {
      "cell_type": "markdown",
      "metadata": {
        "id": "K092xEedF2aE"
      },
      "source": [
        "Fase 1: Exploracion de datos \r\n",
        "\r\n",
        "*   Calular medias de tendencia central\r\n",
        "*   Calcular medidas de dispersión\r\n",
        "*   Graficar\r\n",
        "\r\n",
        "\r\n",
        "\r\n"
      ]
    },
    {
      "cell_type": "code",
      "metadata": {
        "id": "SVSZA5sVJVf4"
      },
      "source": [
        "from sklearn import datasets\r\n",
        "import pandas as pd\r\n",
        "from matplotlib import pyplot as plt"
      ],
      "execution_count": null,
      "outputs": []
    },
    {
      "cell_type": "code",
      "metadata": {
        "id": "o5rpPg_CF_D1"
      },
      "source": [
        "\r\n",
        "url = \"https://raw.githubusercontent.com/jbrownlee/Datasets/master/iris.csv\"\r\n",
        "names = ['sepal-length', 'sepal-width', 'petal-length', 'petal-width', 'class']\r\n",
        "dataset = pd.read_csv(url, names=names)\r\n",
        "dataset.head()"
      ],
      "execution_count": null,
      "outputs": []
    },
    {
      "cell_type": "code",
      "metadata": {
        "id": "0E8yoi8sL5LA"
      },
      "source": [
        "dataset.groupby(\"class\")['sepal-width'].describe()"
      ],
      "execution_count": null,
      "outputs": []
    },
    {
      "cell_type": "code",
      "metadata": {
        "id": "X2WQVo5uHOGG"
      },
      "source": [
        "# Dividir en 2 dataset\r\n",
        "setosa = dataset[(dataset['class'] == 'Iris-setosa')]\r\n",
        "versicolor = dataset[(dataset['class'] == 'Iris-versicolor')]\r\n",
        "setosa.plot()\r\n",
        "versicolor.plot()\r\n",
        "plt.show()\r\n"
      ],
      "execution_count": null,
      "outputs": []
    },
    {
      "cell_type": "code",
      "metadata": {
        "id": "YvY4AS_pKCHM"
      },
      "source": [
        "setosa['sepal-width'].plot(kind=\"hist\", title=\"Setosa Sepal Width\")\r\n",
        "plt.xlabel(\"Length (units)\")\r\n",
        "plt.savefig('Setosa_sepal_width')\r\n"
      ],
      "execution_count": null,
      "outputs": []
    },
    {
      "cell_type": "code",
      "metadata": {
        "id": "3aee2kgkOxcb"
      },
      "source": [
        "versicolor['sepal-width'].plot(kind=\"hist\", title= \"Versicolor Sepal Width\", color=\"green\")\r\n",
        "plt.xlabel(\"Length (units)\")\r\n",
        "plt.savefig('Versicolor_sepal_width')"
      ],
      "execution_count": null,
      "outputs": []
    },
    {
      "cell_type": "code",
      "metadata": {
        "id": "Zlfo-hSAPGEs"
      },
      "source": [
        "boxplot = versicolor.boxplot(column=['sepal-length',\t'sepal-width',\t'petal-length',\t'petal-width'])"
      ],
      "execution_count": null,
      "outputs": []
    },
    {
      "cell_type": "markdown",
      "metadata": {
        "id": "mtQNPjoDQKty"
      },
      "source": [
        "# Prueba de hipótesis"
      ]
    },
    {
      "cell_type": "markdown",
      "metadata": {
        "id": "20CDXSDHY5dT"
      },
      "source": [
        "Prueba de hipótesis en python\r\n",
        "\r\n",
        "|       |  | Pruebas Paramétricas     | Pruebas No Paramétricas  |\r\n",
        "| ----------- | ----------- | ----------- | ----------- |\r\n",
        "| Muestras Independientes     | Múltiples muestras | Anova     |  Kruskal-Wallis|\r\n",
        "|       | Dos Muestras| t de Student      | U Mann Whitney |\r\n",
        "| Muestras Dependientes      | Múltiples muestras | ANOVA de dos vías      | Friedman |\r\n",
        "|      | Dos Muestras | Prueba t dependiente      | Wilcoxson |\r\n",
        "\r\n"
      ]
    },
    {
      "cell_type": "markdown",
      "metadata": {
        "id": "SzTxR2wIcY8g"
      },
      "source": [
        "https://machinelearningmastery.com/statistical-hypothesis-tests-in-python-cheat-sheet/"
      ]
    },
    {
      "cell_type": "markdown",
      "metadata": {
        "id": "KWT9tXzFcY5t"
      },
      "source": [
        ""
      ]
    },
    {
      "cell_type": "markdown",
      "metadata": {
        "id": "PB1qMDYKZU77"
      },
      "source": [
        "\r\n",
        "\r\n",
        "*   Pruevas parametricas: Distibucion normal\r\n",
        "*   Muestras dependinetes : Esta prueba se utiliza cuando las muestras son dependientes; esto es, cuando se trata de una única muestra que ha sido evaluada dos veces (muestras repetidas) o cuando las dos muestras han sido emparejadas o apareadas.\r\n",
        "\r\n",
        "\r\n"
      ]
    },
    {
      "cell_type": "markdown",
      "metadata": {
        "id": "MMpVQytHXqp8"
      },
      "source": [
        "\r\n",
        "\r\n",
        "*   H0 La muestra sigue una distribución normal\r\n",
        "*  H1  La muestra no sigue una distribución normal\r\n",
        "\r\n"
      ]
    },
    {
      "cell_type": "code",
      "metadata": {
        "id": "sjSrHDYjXsFU"
      },
      "source": [
        "from scipy import stats"
      ],
      "execution_count": null,
      "outputs": []
    },
    {
      "cell_type": "code",
      "metadata": {
        "id": "XFwX77eBY2Ns"
      },
      "source": [
        "stat, p = stats.shapiro(setosa['sepal-width'])\r\n",
        "# interpret\r\n",
        "print(p)\r\n",
        "alpha = 0.05\r\n",
        "if p > alpha:\r\n",
        "\tprint('0 La muestra sigue una distribución normal')\r\n",
        "else:\r\n",
        "\tprint('H1  La muestra no sigue una distribución normal')"
      ],
      "execution_count": null,
      "outputs": []
    },
    {
      "cell_type": "code",
      "metadata": {
        "id": "A6ST93ceYmmd"
      },
      "source": [
        "stat, p = stats.shapiro(versicolor['sepal-width'])\r\n",
        "# interpret\r\n",
        "print('stat=%.3f, p=%.3f' % (stat, p))\r\n",
        "alpha = 0.05\r\n",
        "if p > alpha:\r\n",
        "\tprint('0 La muestra sigue una distribución normal')\r\n",
        "else:\r\n",
        "\tprint('H1  La muestra sigue una distribución normal')"
      ],
      "execution_count": null,
      "outputs": []
    },
    {
      "cell_type": "markdown",
      "metadata": {
        "id": "HpOwtt5rZmf8"
      },
      "source": [
        "Pruebas paramétricas dos muestras independientes (ANOVA)"
      ]
    },
    {
      "cell_type": "code",
      "metadata": {
        "id": "SWNVVHSFam_p"
      },
      "source": [
        "H0: La media de las muestras son iguales\r\n",
        "H1: La media de las muestras no son iguales"
      ],
      "execution_count": null,
      "outputs": []
    },
    {
      "cell_type": "code",
      "metadata": {
        "id": "2VblgrX7ZxmL"
      },
      "source": [
        "# Example of the Student's t-test\r\n",
        "from scipy.stats import ttest_ind\r\n",
        "stat, p = stats.ttest_ind(setosa['sepal-width'], versicolor['sepal-width'])\r\n",
        "print('stat=%.3f, p=%.3f' % (stat, p))\r\n",
        "if p > 0.05:\r\n",
        "\tprint('La media de las muestras son iguales')\r\n",
        "else:\r\n",
        "\tprint('La media de las muestras no son iguales')"
      ],
      "execution_count": null,
      "outputs": []
    }
  ]
}