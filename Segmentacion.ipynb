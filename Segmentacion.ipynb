{
  "nbformat": 4,
  "nbformat_minor": 0,
  "metadata": {
    "colab": {
      "name": "Segmentacion.ipynb",
      "provenance": [],
      "authorship_tag": "ABX9TyO4cgqeSCG3naSrxgKiaRhH",
      "include_colab_link": true
    },
    "kernelspec": {
      "name": "python3",
      "display_name": "Python 3"
    }
  },
  "cells": [
    {
      "cell_type": "markdown",
      "metadata": {
        "id": "view-in-github",
        "colab_type": "text"
      },
      "source": [
        "<a href=\"https://colab.research.google.com/github/mleyvaz/Neural-networks/blob/main/Segmentacion.ipynb\" target=\"_parent\"><img src=\"https://colab.research.google.com/assets/colab-badge.svg\" alt=\"Open In Colab\"/></a>"
      ]
    },
    {
      "cell_type": "markdown",
      "metadata": {
        "id": "8ivVQUrg-kTh"
      },
      "source": [
        "Segmentación de imágenes\r\n",
        "\r\n",
        "*   Class 1 : Pixel belonging to the pet.\r\n",
        "*   Class 2 : Pixel bordering the pet.\r\n",
        "*   Class 3 : None of the above/ Surrounding pixel."
      ]
    },
    {
      "cell_type": "code",
      "metadata": {
        "id": "4ViEgH8n-ik_"
      },
      "source": [
        "!pip install git+https://github.com/tensorflow/examples.git\r\n",
        "!pip install -U tfds-nightly"
      ],
      "execution_count": null,
      "outputs": []
    },
    {
      "cell_type": "code",
      "metadata": {
        "id": "2HNUpLaB-6YQ"
      },
      "source": [
        "import tensorflow as tf"
      ],
      "execution_count": null,
      "outputs": []
    },
    {
      "cell_type": "code",
      "metadata": {
        "id": "164fJWVg-73G"
      },
      "source": [
        "from tensorflow_examples.models.pix2pix import pix2pix\r\n",
        "\r\n",
        "import tensorflow_datasets as tfds\r\n",
        "\r\n",
        "from IPython.display import clear_output\r\n",
        "import matplotlib.pyplot as plt"
      ],
      "execution_count": null,
      "outputs": []
    },
    {
      "cell_type": "markdown",
      "metadata": {
        "id": "9WQHPg7P_FDB"
      },
      "source": [
        ""
      ]
    },
    {
      "cell_type": "markdown",
      "metadata": {
        "id": "oWe0_rQM4JbC"
      },
      "source": [
        "## Download the Oxford-IIIT Pets dataset\n",
        "\n",
        "The dataset is already included in TensorFlow datasets, all that is needed to do is download it. The segmentation masks are included in version 3+.\n",
        "https://www.kaggle.com/tanlikesmath/the-oxfordiiit-pet-dataset\n"
      ]
    },
    {
      "cell_type": "code",
      "metadata": {
        "id": "x3lpuFkz_kkC"
      },
      "source": [
        "dataset, info = tfds.load('oxford_iiit_pet:3.*.*', with_info=True)"
      ],
      "execution_count": null,
      "outputs": []
    },
    {
      "cell_type": "code",
      "metadata": {
        "id": "1be2kO_bABnn"
      },
      "source": [
        "def normalize(input_image, input_mask):\r\n",
        "  input_image = tf.cast(input_image, tf.float32) / 255.0\r\n",
        "  input_mask -= 1\r\n",
        "  return input_image, input_mask"
      ],
      "execution_count": null,
      "outputs": []
    },
    {
      "cell_type": "code",
      "metadata": {
        "id": "OpqXOxqOADLW"
      },
      "source": [
        "@tf.function\r\n",
        "def load_image_train(datapoint):\r\n",
        "  input_image = tf.image.resize(datapoint['image'], (128, 128))\r\n",
        "  input_mask = tf.image.resize(datapoint['segmentation_mask'], (128, 128))\r\n",
        "\r\n",
        "  if tf.random.uniform(()) > 0.5:\r\n",
        "    input_image = tf.image.flip_left_right(input_image)\r\n",
        "    input_mask = tf.image.flip_left_right(input_mask)\r\n",
        "\r\n",
        "  input_image, input_mask = normalize(input_image, input_mask)\r\n",
        "\r\n",
        "  return input_image, input_mask"
      ],
      "execution_count": null,
      "outputs": []
    },
    {
      "cell_type": "code",
      "metadata": {
        "id": "KsCYnE7nAHjp"
      },
      "source": [
        "def load_image_test(datapoint):\r\n",
        "  input_image = tf.image.resize(datapoint['image'], (128, 128))\r\n",
        "  input_mask = tf.image.resize(datapoint['segmentation_mask'], (128, 128))\r\n",
        "\r\n",
        "  input_image, input_mask = normalize(input_image, input_mask)\r\n",
        "\r\n",
        "  return input_image, input_mask"
      ],
      "execution_count": null,
      "outputs": []
    },
    {
      "cell_type": "code",
      "metadata": {
        "id": "hSMiW7EsANIj"
      },
      "source": [
        "TRAIN_LENGTH = info.splits['train'].num_examples\r\n",
        "BATCH_SIZE = 64\r\n",
        "BUFFER_SIZE = 1000\r\n",
        "STEPS_PER_EPOCH = TRAIN_LENGTH // BATCH_SIZE"
      ],
      "execution_count": null,
      "outputs": []
    },
    {
      "cell_type": "code",
      "metadata": {
        "id": "_myR2na7AONX"
      },
      "source": [
        "train = dataset['train'].map(load_image_train, num_parallel_calls=tf.data.experimental.AUTOTUNE)\r\n",
        "test = dataset['test'].map(load_image_test)"
      ],
      "execution_count": null,
      "outputs": []
    },
    {
      "cell_type": "code",
      "metadata": {
        "id": "c3y6CsvsARPY"
      },
      "source": [
        "train_dataset = train.cache().shuffle(BUFFER_SIZE).batch(BATCH_SIZE).repeat()\r\n",
        "train_dataset = train_dataset.prefetch(buffer_size=tf.data.experimental.AUTOTUNE)\r\n",
        "test_dataset = test.batch(BATCH_SIZE)"
      ],
      "execution_count": null,
      "outputs": []
    },
    {
      "cell_type": "code",
      "metadata": {
        "id": "ogV6oCKaAYkc"
      },
      "source": [
        "def display(display_list):\r\n",
        "  plt.figure(figsize=(15, 15))\r\n",
        "\r\n",
        "  title = ['Input Image', 'True Mask', 'Predicted Mask']\r\n",
        "\r\n",
        "  for i in range(len(display_list)):\r\n",
        "    plt.subplot(1, len(display_list), i+1)\r\n",
        "    plt.title(title[i])\r\n",
        "    plt.imshow(tf.keras.preprocessing.image.array_to_img(display_list[i]))\r\n",
        "    plt.axis('off')\r\n",
        "  plt.show()"
      ],
      "execution_count": null,
      "outputs": []
    },
    {
      "cell_type": "code",
      "metadata": {
        "id": "UK95Mzc2AbSa"
      },
      "source": [
        "for image, mask in train.take(1):\r\n",
        "  sample_image, sample_mask = image, mask\r\n",
        "display([sample_image, sample_mask])"
      ],
      "execution_count": null,
      "outputs": []
    },
    {
      "cell_type": "code",
      "metadata": {
        "id": "nqHROirCAjPL"
      },
      "source": [
        "OUTPUT_CHANNELS = 3"
      ],
      "execution_count": null,
      "outputs": []
    },
    {
      "cell_type": "code",
      "metadata": {
        "id": "nw0C9kBRAo0X"
      },
      "source": [
        "base_model = tf.keras.applications.MobileNetV2(input_shape=[128, 128, 3], include_top=False)\r\n",
        "\r\n",
        "# Use the activations of these layers\r\n",
        "layer_names = [\r\n",
        "    'block_1_expand_relu',   # 64x64\r\n",
        "    'block_3_expand_relu',   # 32x32\r\n",
        "    'block_6_expand_relu',   # 16x16\r\n",
        "    'block_13_expand_relu',  # 8x8\r\n",
        "    'block_16_project',      # 4x4\r\n",
        "]\r\n",
        "layers = [base_model.get_layer(name).output for name in layer_names]\r\n",
        "\r\n",
        "# Create the feature extraction model\r\n",
        "down_stack = tf.keras.Model(inputs=base_model.input, outputs=layers)\r\n",
        "\r\n",
        "down_stack.trainable = False"
      ],
      "execution_count": null,
      "outputs": []
    },
    {
      "cell_type": "code",
      "metadata": {
        "id": "ldwA9Zy0Aze1"
      },
      "source": [
        "up_stack = [\r\n",
        "    pix2pix.upsample(512, 3),  # 4x4 -> 8x8\r\n",
        "    pix2pix.upsample(256, 3),  # 8x8 -> 16x16\r\n",
        "    pix2pix.upsample(128, 3),  # 16x16 -> 32x32\r\n",
        "    pix2pix.upsample(64, 3),   # 32x32 -> 64x64\r\n",
        "]"
      ],
      "execution_count": null,
      "outputs": []
    },
    {
      "cell_type": "code",
      "metadata": {
        "id": "Nd0MbXwvA4pI"
      },
      "source": [
        "def unet_model(output_channels):\r\n",
        "  inputs = tf.keras.layers.Input(shape=[128, 128, 3])\r\n",
        "  x = inputs\r\n",
        "\r\n",
        "  # Downsampling through the model\r\n",
        "  skips = down_stack(x)\r\n",
        "  x = skips[-1]\r\n",
        "  skips = reversed(skips[:-1])\r\n",
        "\r\n",
        "  # Upsampling and establishing the skip connections\r\n",
        "  for up, skip in zip(up_stack, skips):\r\n",
        "    x = up(x)\r\n",
        "    concat = tf.keras.layers.Concatenate()\r\n",
        "    x = concat([x, skip])\r\n",
        "\r\n",
        "  # This is the last layer of the model\r\n",
        "  last = tf.keras.layers.Conv2DTranspose(\r\n",
        "      output_channels, 3, strides=2,\r\n",
        "      padding='same')  #64x64 -> 128x128\r\n",
        "\r\n",
        "  x = last(x)\r\n",
        "\r\n",
        "  return tf.keras.Model(inputs=inputs, outputs=x)"
      ],
      "execution_count": null,
      "outputs": []
    },
    {
      "cell_type": "code",
      "metadata": {
        "id": "WyuC4QJ1A9AJ"
      },
      "source": [
        "model = unet_model(OUTPUT_CHANNELS)\r\n",
        "model.compile(optimizer='adam',\r\n",
        "              loss=tf.keras.losses.SparseCategoricalCrossentropy(from_logits=True),\r\n",
        "              metrics=['accuracy'])"
      ],
      "execution_count": null,
      "outputs": []
    },
    {
      "cell_type": "code",
      "metadata": {
        "id": "QStxBLiSBA-2"
      },
      "source": [
        "tf.keras.utils.plot_model(model, show_shapes=True)"
      ],
      "execution_count": null,
      "outputs": []
    },
    {
      "cell_type": "code",
      "metadata": {
        "id": "adxtRak3BKAH"
      },
      "source": [
        "def create_mask(pred_mask):\r\n",
        "  pred_mask = tf.argmax(pred_mask, axis=-1)\r\n",
        "  pred_mask = pred_mask[..., tf.newaxis]\r\n",
        "  return pred_mask[0]"
      ],
      "execution_count": null,
      "outputs": []
    },
    {
      "cell_type": "code",
      "metadata": {
        "id": "S9rHFYhWBLcH"
      },
      "source": [
        "def show_predictions(dataset=None, num=1):\r\n",
        "  if dataset:\r\n",
        "    for image, mask in dataset.take(num):\r\n",
        "      pred_mask = model.predict(image)\r\n",
        "      display([image[0], mask[0], create_mask(pred_mask)])\r\n",
        "  else:\r\n",
        "    display([sample_image, sample_mask,\r\n",
        "             create_mask(model.predict(sample_image[tf.newaxis, ...]))])"
      ],
      "execution_count": null,
      "outputs": []
    },
    {
      "cell_type": "code",
      "metadata": {
        "id": "9Mp3GUsIBOZD"
      },
      "source": [
        "show_predictions()"
      ],
      "execution_count": null,
      "outputs": []
    },
    {
      "cell_type": "code",
      "metadata": {
        "id": "xfeL6Y6OBXJJ"
      },
      "source": [
        "class DisplayCallback(tf.keras.callbacks.Callback):\r\n",
        "  def on_epoch_end(self, epoch, logs=None):\r\n",
        "    clear_output(wait=True)\r\n",
        "    show_predictions()\r\n",
        "    print ('\\nSample Prediction after epoch {}\\n'.format(epoch+1))"
      ],
      "execution_count": null,
      "outputs": []
    },
    {
      "cell_type": "code",
      "metadata": {
        "id": "CMKnsIhoBcTB"
      },
      "source": [
        "EPOCHS = 1\r\n",
        "VAL_SUBSPLITS = 5\r\n",
        "VALIDATION_STEPS = info.splits['test'].num_examples//BATCH_SIZE//VAL_SUBSPLITS\r\n",
        "\r\n",
        "model_history = model.fit(train_dataset, epochs=EPOCHS,\r\n",
        "                          steps_per_epoch=STEPS_PER_EPOCH,\r\n",
        "                          validation_steps=VALIDATION_STEPS,\r\n",
        "                          validation_data=test_dataset,\r\n",
        "                          callbacks=[DisplayCallback()])"
      ],
      "execution_count": null,
      "outputs": []
    },
    {
      "cell_type": "code",
      "metadata": {
        "id": "iaoEdZfgBkJk"
      },
      "source": [
        "loss = model_history.history['loss']\r\n",
        "val_loss = model_history.history['val_loss']\r\n",
        "\r\n",
        "epochs = range(EPOCHS)\r\n",
        "\r\n",
        "plt.figure()\r\n",
        "plt.plot(epochs, loss, 'r', label='Training loss')\r\n",
        "plt.plot(epochs, val_loss, 'bo', label='Validation loss')\r\n",
        "plt.title('Training and Validation Loss')\r\n",
        "plt.xlabel('Epoch')\r\n",
        "plt.ylabel('Loss Value')\r\n",
        "plt.ylim([0, 1])\r\n",
        "plt.legend()\r\n",
        "plt.show()"
      ],
      "execution_count": null,
      "outputs": []
    },
    {
      "cell_type": "code",
      "metadata": {
        "id": "DkfXTyzeBtvl"
      },
      "source": [
        ""
      ],
      "execution_count": null,
      "outputs": []
    },
    {
      "cell_type": "code",
      "metadata": {
        "id": "ikrzoG24qwf5"
      },
      "source": [
        "show_predictions(test_dataset, 3)"
      ],
      "execution_count": null,
      "outputs": []
    }
  ]
}