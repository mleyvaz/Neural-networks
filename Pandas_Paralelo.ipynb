{
  "nbformat": 4,
  "nbformat_minor": 0,
  "metadata": {
    "colab": {
      "name": "Pandas Paralelo.ipynb",
      "provenance": [],
      "authorship_tag": "ABX9TyMkr8rk89yX6uvEPej1JW2m",
      "include_colab_link": true
    },
    "kernelspec": {
      "name": "python3",
      "display_name": "Python 3"
    }
  },
  "cells": [
    {
      "cell_type": "markdown",
      "metadata": {
        "id": "view-in-github",
        "colab_type": "text"
      },
      "source": [
        "<a href=\"https://colab.research.google.com/github/mleyvaz/Neural-networks/blob/main/Pandas_Paralelo.ipynb\" target=\"_parent\"><img src=\"https://colab.research.google.com/assets/colab-badge.svg\" alt=\"Open In Colab\"/></a>"
      ]
    },
    {
      "cell_type": "code",
      "metadata": {
        "colab": {
          "base_uri": "https://localhost:8080/",
          "height": 204
        },
        "id": "KRHlV-ZFo6jm",
        "outputId": "ada432c0-0b0b-4c19-887c-803c5ad7fe24"
      },
      "source": [
        "import numpy as np\r\n",
        "import pandas as pd\r\n",
        "import multiprocessing as mp\r\n",
        "\r\n",
        "df = pd.DataFrame(np.random.randint(3, 10, size=[5, 2]))\r\n",
        "df.head()"
      ],
      "execution_count": null,
      "outputs": [
        {
          "output_type": "execute_result",
          "data": {
            "text/html": [
              "<div>\n",
              "<style scoped>\n",
              "    .dataframe tbody tr th:only-of-type {\n",
              "        vertical-align: middle;\n",
              "    }\n",
              "\n",
              "    .dataframe tbody tr th {\n",
              "        vertical-align: top;\n",
              "    }\n",
              "\n",
              "    .dataframe thead th {\n",
              "        text-align: right;\n",
              "    }\n",
              "</style>\n",
              "<table border=\"1\" class=\"dataframe\">\n",
              "  <thead>\n",
              "    <tr style=\"text-align: right;\">\n",
              "      <th></th>\n",
              "      <th>0</th>\n",
              "      <th>1</th>\n",
              "    </tr>\n",
              "  </thead>\n",
              "  <tbody>\n",
              "    <tr>\n",
              "      <th>0</th>\n",
              "      <td>9</td>\n",
              "      <td>9</td>\n",
              "    </tr>\n",
              "    <tr>\n",
              "      <th>1</th>\n",
              "      <td>5</td>\n",
              "      <td>8</td>\n",
              "    </tr>\n",
              "    <tr>\n",
              "      <th>2</th>\n",
              "      <td>8</td>\n",
              "      <td>5</td>\n",
              "    </tr>\n",
              "    <tr>\n",
              "      <th>3</th>\n",
              "      <td>4</td>\n",
              "      <td>5</td>\n",
              "    </tr>\n",
              "    <tr>\n",
              "      <th>4</th>\n",
              "      <td>4</td>\n",
              "      <td>5</td>\n",
              "    </tr>\n",
              "  </tbody>\n",
              "</table>\n",
              "</div>"
            ],
            "text/plain": [
              "   0  1\n",
              "0  9  9\n",
              "1  5  8\n",
              "2  8  5\n",
              "3  4  5\n",
              "4  4  5"
            ]
          },
          "metadata": {
            "tags": []
          },
          "execution_count": 32
        }
      ]
    },
    {
      "cell_type": "markdown",
      "metadata": {
        "id": "AQuQucigqDw7"
      },
      "source": [
        "Dataframe Paralelo Columnas"
      ]
    },
    {
      "cell_type": "code",
      "metadata": {
        "colab": {
          "base_uri": "https://localhost:8080/"
        },
        "id": "2hGugRfarTz-",
        "outputId": "4e86e2a3-6085-4272-a4e1-312f7d009759"
      },
      "source": [
        "def sum_of_squares(column):\r\n",
        "    return sum([i**2 for i in column[1]])\r\n",
        "\r\n",
        "with mp.Pool(2) as pool:\r\n",
        "    result = pool.imap(sum_of_squares, df.iteritems(), chunksize=10)\r\n",
        "    output = [x for x in result]\r\n",
        "\r\n",
        "print(output) \r\n",
        "#> [163, 147]"
      ],
      "execution_count": null,
      "outputs": [
        {
          "output_type": "stream",
          "text": [
            "[202, 220]\n"
          ],
          "name": "stdout"
        }
      ]
    }
  ]
}